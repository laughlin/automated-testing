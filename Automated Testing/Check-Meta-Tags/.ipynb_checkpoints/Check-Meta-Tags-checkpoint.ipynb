{
 "cells": [
  {
   "cell_type": "code",
   "execution_count": 1,
   "metadata": {
    "collapsed": true
   },
   "outputs": [],
   "source": [
    "# TODO: Need to show picture of structure of input xlsx should look like"
   ]
  },
  {
   "cell_type": "markdown",
   "metadata": {},
   "source": [
    "# What it is\n",
    "\n",
    "A script that takes an excel xlsx file containing the url to check along with expected meta tags that a user wants to check. The tool outputs whether the tags have been set at all, incorrectly, or correctly.\n",
    "\n",
    "The current meta tags that can be checked are:\n",
    "* Meta Title\n",
    "* Meta Description\n",
    "\n",
    "# Before Running All Cells\n",
    "\n",
    "Check the the xlsx file containing canonicals that you want to check follows the correct format. To see the expected format, view the xlsx file \"Example Structure\" under the Inputs folder. Then, place the xlsx file in the Check-Meta-Tags > Inputs folder.\n",
    "\n",
    "Finally, enter file input below under [User Input](#user_input)\n",
    "\n",
    "# How to Run\n",
    "On top select Cell -> Run All"
   ]
  },
  {
   "cell_type": "markdown",
   "metadata": {},
   "source": [
    "<a id='user_input'></a>"
   ]
  },
  {
   "cell_type": "markdown",
   "metadata": {},
   "source": [
    "## User Input\n",
    "\n",
    "Enter information below before running the cells."
   ]
  },
  {
   "cell_type": "code",
   "execution_count": null,
   "metadata": {
    "collapsed": true
   },
   "outputs": [],
   "source": [
    "# User input data\n",
    "# Currently the fields are set to be \n",
    "\n",
    "META_TAGS_WORKBOOK = 'Example.xlsx'\n",
    "META_TAGS_WORKBOOK_SHEET = 'MetaTagsSheet'\n"
   ]
  },
  {
   "cell_type": "markdown",
   "metadata": {},
   "source": [
    "## Import and Constant\n",
    "\n",
    "Cells in this section import libraries, define where the ouputted file will go, and load the file the user wants to use to check canonicals."
   ]
  },
  {
   "cell_type": "code",
   "execution_count": null,
   "metadata": {
    "collapsed": true
   },
   "outputs": [],
   "source": [
    "# Imports and constants\n",
    "\n",
    "import urllib.request as request\n",
    "import pandas as pd\n",
    "import re\n",
    "import xlrd\n",
    "from xlutils.copy import copy\n",
    "from datetime import datetime\n",
    "import requests\n",
    "import urllib.request\n",
    "import urllib\n",
    "import pandas as pd\n",
    "\n",
    "\n",
    "META_TAGS_INPUT_FOLDER = 'Inputs/'\n",
    "META_TAGS_OUTPUT_FOLDER = 'Results/'\n",
    "\n",
    "META_TAGS_INPUT_WORKBOOK_PATH = META_TAGS_INPUT_FOLDER + META_TAGS_WORKBOOK\n",
    "\n",
    "to_check = xlrd.open_workbook(META_TAGS_INPUT_WORKBOOK_PATH)\n",
    "to_check_sheet = to_check.sheet_by_name(META_TAGS_WORKBOOK_SHEET)\n",
    "\n",
    "check_wb = copy(to_check) \n",
    "check_sheet = check_wb.get_sheet(META_TAGS_WORKBOOK_SHEET)"
   ]
  },
  {
   "cell_type": "code",
   "execution_count": null,
   "metadata": {
    "collapsed": true
   },
   "outputs": [],
   "source": [
    "def return_tag(url, tag):\n",
    "    "
   ]
  },
  {
   "cell_type": "markdown",
   "metadata": {},
   "source": [
    "## Actual Check\n",
    "\n",
    "Now on to applying the logic."
   ]
  },
  {
   "cell_type": "code",
   "execution_count": null,
   "metadata": {
    "collapsed": true
   },
   "outputs": [],
   "source": [
    "# These are the currently available tag checkers\n",
    "meta_tags = {\"Meta Title\":1, \"Meta Description\":2}\n",
    "mapping_of_results = {}\n",
    "\n",
    "for tag in meta_tags:\n",
    "    # These are what the headers of the outputted xlsx will be, along with the output printed after running this cell.\n",
    "    cols = [\"Result\", \"Status Code\",\"Url\", \"Expected \"+tag, \"actual \"+tag]\n",
    "\n",
    "    # This will be the ouputted table that will hold all of the results for that tag.\n",
    "    #It starts empty to have a container to put results in.\n",
    "    list_of_results = pd.DataFrame(columns=cols)\n",
    "\n",
    "\n",
    "    for i in range(1, len(check_sheet.rows)):\n",
    "        '''For every row in the input data, check to see that the meta tag 1) exists 2) is what was desired'''\n",
    "\n",
    "        # Get data from the inputted file and add https to the front if not defined\n",
    "        url_containing_tag = add_https_if_none(to_check_sheet.cell(i, 0).value.strip())\n",
    "        expected_tag = to_check_sheet.cell(i, meta_tags[tag]).value.strip()\n",
    "\n",
    "        # Get status codes (200, 301, 404, etc) of the row's url.\n",
    "        url_status_code = requests.get(url_containing_tag).status_code\n",
    "\n",
    "        if url_status_code in [200, 301]:\n",
    "            if expected_tag != \"\":\n",
    "                actual_tag = return_tag(url_containing_tag, tag)\n",
    "\n",
    "                if actual_tag == expected_tag:\n",
    "                    result = \"OK\"\n",
    "                else:\n",
    "                    result = 'Expected and actual canonicals do not match'\n",
    "            else:\n",
    "                result = 'N/A'\n",
    "        else: \n",
    "            result = \"Error when accessing url containing meta tag. See status code.\"\n",
    "\n",
    "\n",
    "        # Append the result to a dataframe for output later\n",
    "        list_of_results.loc[i] = [result, status_code, url_containing_tag, expected_tag, actual_tag]\n",
    "\n",
    "    print(list_of_results)\n",
    "    mapping_of_results[tag] = list_of_results"
   ]
  },
  {
   "cell_type": "markdown",
   "metadata": {},
   "source": [
    "## Create Result Output File\n",
    "\n",
    "After running the cell below, the results gotten from checking canonicals will be placed in an xlsx with the current timestamp in the title and then outputted to the __Results__ folder."
   ]
  },
  {
   "cell_type": "code",
   "execution_count": null,
   "metadata": {
    "collapsed": true
   },
   "outputs": [],
   "source": [
    "# Run to output the dataframe as an xlsx file in the 'Results' folder\n",
    "\n",
    "OUTPUT_FILE = CANONICALS_OUTPUT_FOLDER + 'meta-tag-results_'+ datetime.now().strftime(\"%Y-%m-%d_%H-%M\") + '.xlsx'\n",
    "\n",
    "writer = pd.ExcelWriter(OUTPUT_FILE, engine='xlsxwriter',)\n",
    "for tag in meta_tags:\n",
    "    mapping_of_results[tag].to_excel(writer, sheet_name=tag, index=False)\n",
    "writer.save()"
   ]
  }
 ],
 "metadata": {
  "kernelspec": {
   "display_name": "Python 3",
   "language": "python",
   "name": "python3"
  },
  "language_info": {
   "codemirror_mode": {
    "name": "ipython",
    "version": 3
   },
   "file_extension": ".py",
   "mimetype": "text/x-python",
   "name": "python",
   "nbconvert_exporter": "python",
   "pygments_lexer": "ipython3",
   "version": "3.6.0"
  }
 },
 "nbformat": 4,
 "nbformat_minor": 2
}
