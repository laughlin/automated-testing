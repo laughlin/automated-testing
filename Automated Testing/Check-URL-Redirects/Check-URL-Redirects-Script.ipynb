{
 "cells": [
  {
   "cell_type": "markdown",
   "metadata": {},
   "source": [
    "# What it is\n",
    "\n",
    "A script that takes an excel xlsx file containing the original url and the redirected url pairings that a user wants to check and outputs whether the redirects are valid or not.\n",
    "\n",
    "# How to Use it\n",
    "\n",
    "1. Create an input file containing the url's to check that is modelled off of the example sheet. Place it in the 'Inputs' folder. If you just want a feel of how to run the notebook, you can use the default examples. The input file name should be enclosed by quotes like shown and include the file extension .xlsx\n",
    "2. **WIP** Select whether the site to check is review or production by inputting either 'review' or 'production' next to the variable __ENVIRONMENT__\n",
    "3. Run the check by going to 'Cell' in the top navigation and selecting 'Run All'.\n",
    "4. View what urls passed or failed the test by reading below or going to the 'Results' folder and selecting the file with the timestamp of your last run.\n",
    "\n",
    "FUCK"
   ]
  },
  {
   "cell_type": "code",
   "execution_count": 4,
   "metadata": {
    "collapsed": true
   },
   "outputs": [],
   "source": [
    "# User input data\n",
    "\n",
    "REDIRECTS_WORKBOOK = 'Example.xlsx'\n",
    "REDIRECTS_WORKBOOK_SHEET = 'Sheet1'\n"
   ]
  },
  {
   "cell_type": "code",
   "execution_count": 6,
   "metadata": {
    "collapsed": false
   },
   "outputs": [],
   "source": [
    "# Imports and constants\n",
    "\n",
    "import urllib.request as request\n",
    "import pandas as pd\n",
    "import re\n",
    "import xlrd\n",
    "from xlutils.copy import copy\n",
    "from datetime import datetime\n",
    "import requests\n",
    "\n",
    "import matplotlib\n",
    "REDIRECTS_INPUT_FOLDER = 'Inputs/'\n",
    "REDIRECTS_OUTPUT_FOLDER = 'Results/'\n",
    "\n",
    "REDIRECTS_INPUT_WORKBOOK_PATH = REDIRECTS_INPUT_FOLDER + REDIRECTS_WORKBOOK\n",
    "\n",
    "to_check = xlrd.open_workbook(REDIRECTS_INPUT_WORKBOOK_PATH)\n",
    "to_check_sheet = to_check.sheet_by_name(REDIRECTS_WORKBOOK_SHEET)\n",
    "\n",
    "check_wb = copy(to_check) \n",
    "check_sheet = check_wb.get_sheet(REDIRECTS_WORKBOOK_SHEET)"
   ]
  },
  {
   "cell_type": "code",
   "execution_count": 9,
   "metadata": {
    "collapsed": true
   },
   "outputs": [],
   "source": [
    "# Methods to parse data in file\n",
    "\n",
    "def add_https_if_none(url):\n",
    "    if url.startswith(\"www\"):\n",
    "        return \"https://\" + url\n",
    "    else: return url"
   ]
  },
  {
   "cell_type": "code",
   "execution_count": 11,
   "metadata": {
    "collapsed": false,
    "scrolled": false
   },
   "outputs": [
    {
     "name": "stdout",
     "output_type": "stream",
     "text": [
      "                     result status code  \\\n",
      "1   Redirected to wrong url         301   \n",
      "2   Redirected to wrong url         301   \n",
      "3   Redirected to wrong url         301   \n",
      "4                        OK         301   \n",
      "5                        OK         301   \n",
      "6   Redirected to wrong url         301   \n",
      "7                        OK         301   \n",
      "8                        OK         301   \n",
      "9                        OK         301   \n",
      "10                       OK         301   \n",
      "11                       OK         301   \n",
      "12  Redirected to wrong url         301   \n",
      "13                       OK         301   \n",
      "14                       OK         301   \n",
      "15  Redirected to wrong url         301   \n",
      "16  Redirected to wrong url         301   \n",
      "17         View status code         404   \n",
      "18  Redirected to wrong url         301   \n",
      "\n",
      "                                                  url  \\\n",
      "1                https://www.masterlock.com/index.jsp   \n",
      "2   https://www.masterlock.com/service-and-support...   \n",
      "3   https://www.masterlock.com/apps/masterlock/cat...   \n",
      "4   https://www.masterlock.com/apps/utilities/img....   \n",
      "5   https://www.masterlock.com/catalog/residential...   \n",
      "6   https://www.masterlock.com/general/faqs_lostco...   \n",
      "7   https://www.masterlock.com/government/apps/nsn...   \n",
      "8                  https://www.masterlock.com/key.htm   \n",
      "9   https://www.masterlock.com/more-from-master-lo...   \n",
      "10       https://www.masterlock.com/SecretCombination   \n",
      "11  https://www.masterlock.com/about_us/super_bowl...   \n",
      "12  https://www.masterlock.com/apps/masterlock/cat...   \n",
      "13  https://www.masterlock.com/apps/utilities/img....   \n",
      "14        https://www.masterlock.com/brightcove.shtml   \n",
      "15  https://www.masterlock.com/business-use/produc...   \n",
      "16  https://www.masterlock.com/business-use/safety...   \n",
      "17  https://www.masterlock.com/construction%3EMast...   \n",
      "18      https://www.masterlock.com/general/Legal.html   \n",
      "\n",
      "                                    expected redirect  \\\n",
      "1                           http://www.masterlock.com   \n",
      "2                          http://www.masterlock.comz   \n",
      "3   http://www.masterlock.com/cms/customersupport/...   \n",
      "4   http://content.masterlock.com/masterlock/resou...   \n",
      "5   http://cdn.large.masterlock.com/masterlock/res...   \n",
      "6   http://www.masterlock.com/service-and-support/...   \n",
      "7   https://www.masterlock.com/business-use/govern...   \n",
      "8   https://www.masterlock.com/service-and-support...   \n",
      "9   https://www.masterlock.com/business-use/safety...   \n",
      "10  https://www.masterlock.com/service-and-support...   \n",
      "11  https://www.masterlock.com/about-us/super-bowl...   \n",
      "12  http://www.masterlock.com/cms/customersupport/...   \n",
      "13  http://content.masterlock.com/masterlock/resou...   \n",
      "14     https://www.youtube.com/user/MasterlockCompany   \n",
      "15  http://www.masterlock.com/personal-use/product...   \n",
      "16  http://www.masterlock.com/business-use/product...   \n",
      "17  http://www.masterlock.com/business-use/commerc...   \n",
      "18          http://www.masterlock.com/legal-statement   \n",
      "\n",
      "                                      actual redirect hops  \n",
      "1                         https://www.masterlock.com/    2  \n",
      "2   https://www.masterlock.com/service-and-support...    2  \n",
      "3   https://www.masterlock.com/cms/customersupport...    1  \n",
      "4   http://content.masterlock.com/masterlock/resou...    1  \n",
      "5   http://cdn.large.masterlock.com/masterlock/res...    1  \n",
      "6   https://www.masterlock.com/service-and-support...    1  \n",
      "7   https://www.masterlock.com/business-use/govern...    1  \n",
      "8   https://www.masterlock.com/service-and-support...    2  \n",
      "9   https://www.masterlock.com/business-use/safety...    2  \n",
      "10  https://www.masterlock.com/service-and-support...    2  \n",
      "11  https://www.masterlock.com/about-us/super-bowl...    2  \n",
      "12  https://www.masterlock.com/cms/customersupport...    1  \n",
      "13  http://content.masterlock.com/masterlock/resou...    1  \n",
      "14     https://www.youtube.com/user/MasterlockCompany    1  \n",
      "15  https://www.masterlock.com/personal-use/produc...    1  \n",
      "16  https://www.masterlock.com/business-use/produc...    1  \n",
      "17  https://www.masterlock.com/business-use/produc...    1  \n",
      "18         https://www.masterlock.com/legal-statement    2  \n"
     ]
    }
   ],
   "source": [
    "# Checking the redirects\n",
    "\n",
    "cols = [\"result\", \"status code\", \"url\", \"expected redirect\", \"actual redirect\", \"hops\"]\n",
    "list_of_results = pd.DataFrame(columns=cols)\n",
    "\n",
    "# For every row in the input data, check to see that the actual redirect is the same as the desired\n",
    "for i in range(1, len(check_sheet.rows)):\n",
    "    url_to_redirect = add_https_if_none(to_check_sheet.cell(i, 0).value.strip())\n",
    "    expected_redirect = add_https_if_none(to_check_sheet.cell(i, 1).value.strip())\n",
    "    \n",
    "    req = requests.get(url_to_redirect)\n",
    "    \n",
    "    # This status code is reflective of the last code outputted and will not reflect redirects\n",
    "    status_code = req.status_code\n",
    "    \n",
    "    # To check redirects, the history of the response must be parsed\n",
    "    # If there is no history, then a redirect did not occur\n",
    "    if req.history:\n",
    "        status_code = req.history[-1].status_code\n",
    "        hops = len(req.history)\n",
    "        if  status_code == 301:\n",
    "            actual_redirect = req.url\n",
    "            if actual_redirect == expected_redirect:\n",
    "                if hops >= 3:\n",
    "                    result = \"Correct redirect, but hopped greater than three times\"\n",
    "                else:\n",
    "                    result = \"OK\"\n",
    "            else:\n",
    "                result = 'Redirected to wrong url'\n",
    "        else: result = \"Wrong redirect response\"\n",
    "    else:\n",
    "        result = \"View status code\"\n",
    "    \n",
    "    # Append the result to a dataframe for output later\n",
    "    list_of_results.loc[i] = [result, status_code, url_to_redirect, expected_redirect, actual_redirect, hops]\n",
    "\n",
    "print(list_of_results)"
   ]
  },
  {
   "cell_type": "code",
   "execution_count": 12,
   "metadata": {
    "collapsed": true
   },
   "outputs": [],
   "source": [
    "# Run to output the dataframe as an xlsx file in the 'Results' folder\n",
    "\n",
    "OUTPUT_FILE = REDIRECTS_OUTPUT_FOLDER + 'redirect-results_'+ datetime.now().strftime(\"%Y-%m-%d_%H-%M\") + '.xlsx'\n",
    "\n",
    "writer = pd.ExcelWriter(OUTPUT_FILE, engine='xlsxwriter',)\n",
    "list_of_results.to_excel(writer, sheet_name='Sheet1', index=False)\n",
    "writer.save()"
   ]
  }
 ],
 "metadata": {
  "kernelspec": {
   "display_name": "Python 3",
   "language": "python",
   "name": "python3"
  },
  "language_info": {
   "codemirror_mode": {
    "name": "ipython",
    "version": 3
   },
   "file_extension": ".py",
   "mimetype": "text/x-python",
   "name": "python",
   "nbconvert_exporter": "python",
   "pygments_lexer": "ipython3",
   "version": "3.6.0"
  }
 },
 "nbformat": 4,
 "nbformat_minor": 2
}
