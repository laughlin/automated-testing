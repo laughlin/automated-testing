{
 "cells": [
  {
   "cell_type": "markdown",
   "metadata": {},
   "source": [
    "# What it is\n",
    "\n",
    "A script that takes an excel xlsx file containing the url to check and canoncial url pairings that a user wants to check. The tool outputs whether the canonical has been set at all, incorrectly, or correctly.\n",
    "\n",
    "Ouputted file will contain the results of the check. Each tag checked will be on a seperate sheet labelled by the tag.\n",
    "\n",
    "# Before Running All Cells\n",
    "\n",
    "Check the the xlsx file containing canonicals that you want to check follows the correct format. To see the expected format, view the xlsx file \"Example\" under the Inputs folder. Then, place the xlsx file in the Check-Canonicals > Inputs folder.\n",
    "\n",
    "Finally, enter file input below under [User Input](#user_input)\n",
    "\n",
    "\n",
    "# How to Run\n",
    "On top select Cell -> Run All"
   ]
  },
  {
   "cell_type": "markdown",
   "metadata": {},
   "source": [
    "<a id='user_input'></a>"
   ]
  },
  {
   "cell_type": "markdown",
   "metadata": {},
   "source": [
    "## User Input\n",
    "\n",
    "Enter information below before running the cells."
   ]
  },
  {
   "cell_type": "code",
   "execution_count": null,
   "metadata": {
    "collapsed": true
   },
   "outputs": [],
   "source": [
    "\n",
    "CANONICALS_WORKBOOK = 'Example.xlsx' # Name of xlsx containing canonicals you want to test\n",
    "CANONICALS_WORKBOOK_SHEET = 'CanonicalsSheet' # Name of xlsx's sheet containing canonicals you want to test\n",
    "\n",
    "# If an http(s) needs to be appended to the url, what should it be?\n",
    "# https = True\n",
    "# http = False\n",
    "# This will only change things if the beginning of url path is not specified\n",
    "IS_SSL = True\n",
    "\n",
    "# Whether looking to test the review site or production site\n",
    "# Used for Master Lock and SentrySafe\n",
    "# Not be supported for other sites, leave False\n",
    "IS_ML_REVIEW = False"
   ]
  },
  {
   "cell_type": "markdown",
   "metadata": {},
   "source": [
    "## Import and Constant\n",
    "\n",
    "Cells in this section import libraries, define where the ouputted file will go, and load the file the user wants to use to check canonicals."
   ]
  },
  {
   "cell_type": "code",
   "execution_count": null,
   "metadata": {
    "collapsed": false
   },
   "outputs": [],
   "source": [
    "# Imports and constants\n",
    "\n",
    "import pandas as pd\n",
    "import xlrd\n",
    "from xlutils.copy import copy\n",
    "from datetime import datetime\n",
    "import pandas as pd\n",
    "\n",
    "import sys\n",
    "sys.path.append('../')\n",
    "import automatedtesting\n",
    "\n",
    "CANONICALS_INPUT_FOLDER = 'Inputs/'\n",
    "CANONICALS_OUTPUT_FOLDER = 'Results/'\n",
    "\n",
    "CANONICALS_INPUT_WORKBOOK_PATH = CANONICALS_INPUT_FOLDER + CANONICALS_WORKBOOK\n",
    "\n",
    "to_check = xlrd.open_workbook(CANONICALS_INPUT_WORKBOOK_PATH)\n",
    "to_check_sheet = to_check.sheet_by_name(CANONICALS_WORKBOOK_SHEET)\n",
    "\n",
    "check_wb = copy(to_check) \n",
    "check_sheet = check_wb.get_sheet(CANONICALS_WORKBOOK_SHEET)\n",
    "\n",
    "OK = \"OK\""
   ]
  },
  {
   "cell_type": "markdown",
   "metadata": {},
   "source": [
    "## Functions\n",
    "\n",
    "In this section, functions are defined to make the code easier to read and write tests for."
   ]
  },
  {
   "cell_type": "code",
   "execution_count": null,
   "metadata": {
    "collapsed": true
   },
   "outputs": [],
   "source": [
    "def return_canonical_result(actual, expected, expected_status_code):\n",
    "    if actual == \"n/a\":\n",
    "        '''If canonical has not been set, set response to say that.'''\n",
    "        match_result = \"Canonical not set\"\n",
    "\n",
    "    elif actual == expected:\n",
    "        if expected_status_code == 200:\n",
    "            match_result = OK\n",
    "        else:\n",
    "            match_result = \"Canonical is bad link, but is equal to expected. Consider changing canonical.\"\n",
    "    else:\n",
    "        match_result = 'Expected and actual canonicals do not match'\n",
    "    return match_result"
   ]
  },
  {
   "cell_type": "markdown",
   "metadata": {},
   "source": [
    "# Testing\n",
    "\n",
    "The cells below are a check to make sure that the tool is working correctly. If one of these fails, and the canonical checker still runs, outputted file may be incorrect. Reach out or trouble shoot based on the outputted error.\n",
    "\n",
    "When selecting 'Run All Cells', if one of these tests fails, the code will stop running at this cell. If you want to continue, you can select the 'Actual Check' cell and continue by running that, but it's highly advised against."
   ]
  },
  {
   "cell_type": "code",
   "execution_count": null,
   "metadata": {
    "collapsed": false
   },
   "outputs": [],
   "source": [
    "# Test for checking that the canonical parser is working correctly.\n",
    "# If this returns a warning, first check that the passed in url actually has the redirect.\n",
    "def test_return_canonical(url, canonical):\n",
    "    result = automatedtesting.return_canonical(url)\n",
    "    if result == canonical:\n",
    "        return True\n",
    "    else:\n",
    "        print(\"Error when parsing\")\n",
    "        return sys.exit(result)\n",
    "\n",
    "test_return_canonical(\"https://www.masterlock.com/business-use/product/A1266NBLK\",\n",
    "                      \"http://www.masterlock.com/business-use/product/A1266NBLK\")   "
   ]
  },
  {
   "cell_type": "markdown",
   "metadata": {},
   "source": [
    "## Actual Check\n",
    "\n",
    "Now on to applying the logic."
   ]
  },
  {
   "cell_type": "code",
   "execution_count": null,
   "metadata": {
    "collapsed": false,
    "scrolled": true
   },
   "outputs": [],
   "source": [
    "# These are what the headers of the outputted xlsx will be, along with the output printed after running this cell.\n",
    "cols = [\"URL Result\", \"URL\", \"URL Status Code\", \"Result\", \"Canonical Status Code\",\n",
    "        \"Expected Canonical\", \"Actual Canonical\"]\n",
    "\n",
    "# This will be the ouputted table that will hold all of the results. It is currently empty to have a container\n",
    "# to put results in.\n",
    "list_of_results = pd.DataFrame(columns=cols)\n",
    "\n",
    "#For every row in the input data, check to see that the canonical 1) exists 2) is what was desired\n",
    "for i in range(1, len(check_sheet.rows)):\n",
    "    \n",
    "    # Clear variables before checking row\n",
    "    actual_canonical = \"n/a\"\n",
    "    match_result = \"n/a\"\n",
    "    \n",
    "    # Get data from the inputted file and clean the url input\n",
    "    url_containing_canonical = automatedtesting.change_env(to_check_sheet.cell(i, 0).value, IS_ML_REVIEW, IS_SSL)\n",
    "    expected_canonical = automatedtesting.change_env(to_check_sheet.cell(i, 1).value.strip(), IS_ML_REVIEW, IS_SSL)\n",
    "    \n",
    "    # Get status codes (200, 301, 404, etc) of the row's urls.\n",
    "    url_status_code = automatedtesting.get_status_code(url_containing_canonical)\n",
    "    canonical_status_code = automatedtesting.get_status_code(expected_canonical)\n",
    "    \n",
    "    # If the url is okay, the canonical url can then be checked\n",
    "    # If not, return an Error result\n",
    "    if url_status_code == 200:\n",
    "        url_result = OK\n",
    "        actual_canonical = automatedtesting.return_canonical(url_containing_canonical)\n",
    "        match_result = return_canonical_result(actual_canonical, expected_canonical, canonical_status_code)\n",
    "    else: \n",
    "        url_result = \"Error when accessing url containing canonical. See status code.\"\n",
    "\n",
    "    \n",
    "    # Append the result to a dataframe for output later\n",
    "    list_of_results.loc[i] = [url_result, url_containing_canonical, url_status_code, match_result,\n",
    "                              canonical_status_code, expected_canonical, actual_canonical]\n",
    "\n",
    "print(list_of_results)"
   ]
  },
  {
   "cell_type": "markdown",
   "metadata": {},
   "source": [
    "## Create Result Output File\n",
    "\n",
    "After running the cell below, the results gotten from checking canonicals will be placed in an xlsx with the current timestamp in the title and then outputted to the __Results__ folder."
   ]
  },
  {
   "cell_type": "code",
   "execution_count": null,
   "metadata": {
    "collapsed": true
   },
   "outputs": [],
   "source": [
    "# Run to output the dataframe as an xlsx file in the 'Results' folder\n",
    "\n",
    "OUTPUT_FILE = CANONICALS_OUTPUT_FOLDER + 'canonical-results_'+ datetime.now().strftime(\"%Y-%m-%d_%H-%M\") + '.xlsx'\n",
    "\n",
    "writer = pd.ExcelWriter(OUTPUT_FILE, engine='xlsxwriter',)\n",
    "list_of_results.to_excel(writer, sheet_name='Canonicals', index=False)\n",
    "writer.save()"
   ]
  }
 ],
 "metadata": {
  "kernelspec": {
   "display_name": "Python 3",
   "language": "python",
   "name": "python3"
  },
  "language_info": {
   "codemirror_mode": {
    "name": "ipython",
    "version": 3
   },
   "file_extension": ".py",
   "mimetype": "text/x-python",
   "name": "python",
   "nbconvert_exporter": "python",
   "pygments_lexer": "ipython3",
   "version": "3.6.0"
  }
 },
 "nbformat": 4,
 "nbformat_minor": 2
}
