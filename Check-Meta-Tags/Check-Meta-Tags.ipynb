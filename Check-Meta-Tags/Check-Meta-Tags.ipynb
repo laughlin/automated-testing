{
 "cells": [
  {
   "cell_type": "markdown",
   "metadata": {},
   "source": [
    "# What it is\n",
    "\n",
    "A script that takes an excel xlsx file containing the url to check along with expected meta tags that a user wants to check. The tool outputs whether the tags have been set at all, incorrectly, or correctly. It also outputs an SEO check which makes sure that the meta tags follow general SEO guidelines.\n",
    "\n",
    "The current meta tags that can be checked are:\n",
    "* Meta Title\n",
    "* Meta Description\n",
    "\n",
    "# Before Running All Cells\n",
    "\n",
    "Check the the xlsx file containing meta tags that you want to check follows the correct format. To see the expected format, view the xlsx file \"Example\" under the Inputs folder. Then, place the xlsx file in the Check-Meta-Tags > Inputs folder.\n",
    "\n",
    "Finally, enter file name and sheet below under [User Input](#user_input)\n",
    "\n",
    "# How to Run\n",
    "On top select Cell -> Run All"
   ]
  },
  {
   "cell_type": "markdown",
   "metadata": {},
   "source": [
    "<a id='user_input'></a>"
   ]
  },
  {
   "cell_type": "markdown",
   "metadata": {},
   "source": [
    "## User Input\n",
    "\n",
    "Enter information below before running the cells."
   ]
  },
  {
   "cell_type": "code",
   "execution_count": 27,
   "metadata": {
    "collapsed": true
   },
   "outputs": [],
   "source": [
    "# User input data\n",
    "# Currently the fields are set to be \n",
    "\n",
    "META_TAGS_WORKBOOK = 'Example.xlsx'\n",
    "META_TAGS_WORKBOOK_SHEET = 'MetaTagsSheet'\n",
    "\n",
    "IS_SSL = True\n"
   ]
  },
  {
   "cell_type": "markdown",
   "metadata": {},
   "source": [
    "## Import and Constant\n",
    "\n",
    "Cells in this section import libraries, define where the ouputted file will go, and load the file the user wants to use to check canonicals."
   ]
  },
  {
   "cell_type": "code",
   "execution_count": 31,
   "metadata": {
    "collapsed": false
   },
   "outputs": [],
   "source": [
    "# Imports and constants\n",
    "import urllib.request as request\n",
    "import pandas as pd\n",
    "import re\n",
    "import xlrd\n",
    "from xlutils.copy import copy\n",
    "from datetime import datetime\n",
    "import requests\n",
    "import urllib.request\n",
    "import urllib\n",
    "import pandas as pd\n",
    "from bs4 import BeautifulSoup\n",
    "\n",
    "META_TAGS_INPUT_FOLDER = 'Inputs/'\n",
    "META_TAGS_OUTPUT_FOLDER = 'Results/'\n",
    "\n",
    "META_TAGS_INPUT_WORKBOOK_PATH = META_TAGS_INPUT_FOLDER + META_TAGS_WORKBOOK\n",
    "\n",
    "to_check = xlrd.open_workbook(META_TAGS_INPUT_WORKBOOK_PATH)\n",
    "to_check_sheet = to_check.sheet_by_name(META_TAGS_WORKBOOK_SHEET)\n",
    "\n",
    "check_wb = copy(to_check) \n",
    "check_sheet = check_wb.get_sheet(META_TAGS_WORKBOOK_SHEET)\n",
    "\n",
    "# These are the currently available tag checkers\n",
    "META_TAGS = {\"title\":{'column':1, 'min_char':0, 'max_char':50},\n",
    "             \"description\":{'column':2, 'min_char':50, 'max_char':300}}\n",
    "\n",
    "SSL = \"https\"\n",
    "NON_SSL = \"http\""
   ]
  },
  {
   "cell_type": "markdown",
   "metadata": {},
   "source": [
    "## Functions\n",
    "\n",
    "In this section, functions are defined to make the code easier to read and write tests for."
   ]
  },
  {
   "cell_type": "code",
   "execution_count": 29,
   "metadata": {
    "collapsed": true
   },
   "outputs": [],
   "source": [
    "def return_tag(url, tag):\n",
    "    ''' This function parses the html of the parameter url and returns the url of a canonical if set.'''\n",
    "    f = urllib.request.urlopen(url)\n",
    "    soup = BeautifulSoup(f.read(), 'html.parser')\n",
    "    \n",
    "    # Find all html elements that are of type link. Then, for each of these elements, if it is a canonical\n",
    "    # link, set this to be the canonical and break out of the loop. There can only be one canonical set so no need\n",
    "    # to check the rest of the links.\n",
    "    result = \"None set\"\n",
    "    if tag == \"title\":\n",
    "        for link in soup.find(tag):\n",
    "            result = link\n",
    "    else:\n",
    "        for link in soup.findAll('meta'):\n",
    "            if link.get('name') == tag:\n",
    "                result = link.get('content')\n",
    "    return result\n",
    "    \n",
    "def return_full_clean_path(url, ssl):\n",
    "    '''Adds the full url path if none was defined on the input file.'''\n",
    "    base = get_base(ssl)\n",
    "    url = url.strip().rstrip('/')\n",
    "    if \"//\" not in url:\n",
    "        url = \"\".join([base,\"://\",url])\n",
    "    return url\n",
    "    \n",
    "def check_seo(tag, min_length, max_length):\n",
    "    if len(tag) >= min_length and len(tag) <= max_length:\n",
    "        seo_result = \"OK\"\n",
    "    elif len(tag) < min_length:\n",
    "        seo_result = \"Too short, should be >= \"+str(min_length)\n",
    "    else:\n",
    "        seo_result = \"Too long, should be <= \"+str(max_length)\n",
    "    return seo_result\n",
    "\n",
    "def check_matching(expected, actual):\n",
    "    if actual == expected:\n",
    "        match_result = \"OK\"\n",
    "    else:\n",
    "        match_result = \"Expected and actual do not match\"\n",
    "    return match_result\n",
    "\n",
    "def get_base(ssl):\n",
    "    if ssl: base = SSL    \n",
    "    else: base = NON_SSL\n",
    "    return base"
   ]
  },
  {
   "cell_type": "markdown",
   "metadata": {},
   "source": [
    "# Testing\n",
    "\n",
    "The cells below are a check to make sure that the tool is working correctly. If one of these fails, and the canonical checker still runs, outputted file may be incorrect. Reach out or trouble shoot based on the outputted error.\n",
    "\n",
    "When selecting 'Run All Cells', if one of these tests fails, the code will stop running at this cell. If you want to continue, you can select the 'Actual Check' cell and continue by running that, but it's highly advised against."
   ]
  },
  {
   "cell_type": "code",
   "execution_count": 7,
   "metadata": {
    "collapsed": false
   },
   "outputs": [
    {
     "name": "stdout",
     "output_type": "stream",
     "text": [
      "True\n",
      "True\n"
     ]
    }
   ],
   "source": [
    "from bs4 import BeautifulSoup\n",
    "def test_return_tag(url, tag, actual):\n",
    "    '''Test for checking that the canonical parser is working correctly.\n",
    "    If this returns a warning, first check that the passed in url actually has the redirect.'''\n",
    "    result = return_tag(url, tag)\n",
    "    if result == actual:\n",
    "        return True\n",
    "    else:\n",
    "        print(\"Error when parsing\")\n",
    "        return sys.exit(result)\n",
    "\n",
    "print(test_return_tag(\"https://www.masterlock.com/business-use/product/A1266NBLK\",\n",
    "                      \"title\", 'Model No. A1266NBLK | Master Lock'))\n",
    "print(test_return_tag(\"https://www.masterlock.com/business-use/product/A1266NBLK\",\n",
    "                \"description\", \n",
    "                \"The American Lock A1266NBLK Solid Aluminum Padlock offers customization options to help fit your security needs, including keying, laser engraving and shackle options. Learn more.\")) "
   ]
  },
  {
   "cell_type": "markdown",
   "metadata": {},
   "source": [
    "## Actual Check\n",
    "\n",
    "Now on to applying the logic."
   ]
  },
  {
   "cell_type": "code",
   "execution_count": 32,
   "metadata": {
    "collapsed": false,
    "scrolled": true
   },
   "outputs": [
    {
     "name": "stdout",
     "output_type": "stream",
     "text": [
      "                       Match Result Status Code  \\\n",
      "1                                OK         200   \n",
      "2                                OK         200   \n",
      "3                               n/a         200   \n",
      "4                                OK         200   \n",
      "5  Expected and actual do not match         200   \n",
      "6                               n/a         200   \n",
      "7                               n/a       Error   \n",
      "\n",
      "                                                 Url  \\\n",
      "1                         https://www.masterlock.com   \n",
      "2                https://www.masterlock.com/about-us   \n",
      "3  https://www.masterlock.com/personal-use/school...   \n",
      "4     https://www.masterlock.com/service-and-support   \n",
      "5  https://www.masterlock.com/service-and-support...   \n",
      "6  https://www.masterlock.com/service-and-support...   \n",
      "7                                 https://www.badurl   \n",
      "\n",
      "                                      Expected title  \\\n",
      "1  Locks, Padlocks and Security Products | Master...   \n",
      "2                             About Us | Master Lock   \n",
      "3                                                      \n",
      "4                    Service & Support | Master Lock   \n",
      "5                       this is a fake title example   \n",
      "6                                                      \n",
      "7                                    bad url example   \n",
      "\n",
      "                                        actual title  \\\n",
      "1  Locks, Padlocks and Security Products | Master...   \n",
      "2                             About Us | Master Lock   \n",
      "3                                                n/a   \n",
      "4                    Service & Support | Master Lock   \n",
      "5          Warranty Information | FAQS | Master Lock   \n",
      "6                                                n/a   \n",
      "7                                                n/a   \n",
      "\n",
      "                   SEO Check  \n",
      "1  Too long, should be <= 50  \n",
      "2                         OK  \n",
      "3                        n/a  \n",
      "4                         OK  \n",
      "5                         OK  \n",
      "6                        n/a  \n",
      "7                        n/a  \n",
      "                       Match Result Status Code  \\\n",
      "1                                OK         200   \n",
      "2                                OK         200   \n",
      "3                                OK         200   \n",
      "4                               n/a         200   \n",
      "5                               n/a         200   \n",
      "6  Expected and actual do not match         200   \n",
      "7                               n/a       Error   \n",
      "\n",
      "                                                 Url  \\\n",
      "1                         https://www.masterlock.com   \n",
      "2                https://www.masterlock.com/about-us   \n",
      "3  https://www.masterlock.com/personal-use/school...   \n",
      "4     https://www.masterlock.com/service-and-support   \n",
      "5  https://www.masterlock.com/service-and-support...   \n",
      "6  https://www.masterlock.com/service-and-support...   \n",
      "7                                 https://www.badurl   \n",
      "\n",
      "                                Expected description  \\\n",
      "1  Master Lock is recognized around the world as ...   \n",
      "2  Master Lock is dedicated to providing security...   \n",
      "3  School, Gym & Health Club products for Home & ...   \n",
      "4                                                      \n",
      "5                                                      \n",
      "6           this is a wrong meta description example   \n",
      "7                                    bad url example   \n",
      "\n",
      "                                  actual description  \\\n",
      "1  Master Lock is recognized around the world as ...   \n",
      "2  Master Lock is dedicated to providing security...   \n",
      "3  School, Gym & Health Club products for Home & ...   \n",
      "4                                                n/a   \n",
      "5                                                n/a   \n",
      "6  Safes for Home & Business FAQs from Master Loc...   \n",
      "7                                                n/a   \n",
      "\n",
      "                    SEO Check  \n",
      "1                          OK  \n",
      "2                          OK  \n",
      "3                          OK  \n",
      "4                         n/a  \n",
      "5                         n/a  \n",
      "6  Too short, should be >= 50  \n",
      "7                         n/a  \n"
     ]
    }
   ],
   "source": [
    "mapping_of_results = {}\n",
    "\n",
    "for tag in META_TAGS:\n",
    "    # These are what the headers of the outputted xlsx will be, along with the output printed after running this cell.\n",
    "    cols = [\"Match Result\", \"Status Code\",\"Url\", \"Expected \"+tag, \"actual \"+tag, \"SEO Check\"]\n",
    "\n",
    "    # This will be the ouputted table that will hold all of the results for that tag.\n",
    "    list_of_results = pd.DataFrame(columns=cols)\n",
    "    \n",
    "    min_seo = META_TAGS[tag]['min_char']\n",
    "    max_seo = META_TAGS[tag]['max_char']\n",
    "\n",
    "    for i in range(1, len(check_sheet.rows)):\n",
    "        '''For every row in the input data, check to see that the meta tag 1) exists 2) is what was desired'''\n",
    "        \n",
    "        # Clear the results to be sure they don't carry over row to row\n",
    "        seo_result = \"n/a\"\n",
    "        match_result = \"n/a\"\n",
    "        actual_tag = \"n/a\"\n",
    "\n",
    "        # Get data from the inputted file and clean url if not full path\n",
    "        url_containing_tag = return_full_clean_path(to_check_sheet.cell(i, 0).value, IS_SSL)\n",
    "        expected_tag = to_check_sheet.cell(i, META_TAGS[tag]['column']).value.strip()\n",
    "\n",
    "        if expected_tag != \"\":\n",
    "            try:\n",
    "                url_status_code = requests.get(url_containing_tag).status_code\n",
    "\n",
    "                if url_status_code == 200:\n",
    "                    actual_tag = return_tag(url_containing_tag, tag)\n",
    "                    seo_result = check_seo(expected_tag, min_seo, max_seo)\n",
    "                    match_result = check_matching(expected_tag, actual_tag)\n",
    "                else: \n",
    "                    match_result = \"Error when accessing url containing meta tag \"+str(tag)+\". See status code.\"\n",
    "            except:\n",
    "                url_status_code = \"Error\"\n",
    "                meta_check_result = \"Url could not be accessed\"\n",
    "\n",
    "\n",
    "        # Append the result to a dataframe for output later\n",
    "        list_of_results.loc[i] = [match_result, url_status_code, url_containing_tag,\n",
    "                                  expected_tag, actual_tag, seo_result]\n",
    "\n",
    "    print(list_of_results)\n",
    "    mapping_of_results[tag] = list_of_results"
   ]
  },
  {
   "cell_type": "markdown",
   "metadata": {},
   "source": [
    "## Create Result Output File\n",
    "\n",
    "After running the cell below, the results gotten from checking canonicals will be placed in an xlsx with the current timestamp in the title and then outputted to the __Results__ folder."
   ]
  },
  {
   "cell_type": "code",
   "execution_count": 22,
   "metadata": {
    "collapsed": false
   },
   "outputs": [],
   "source": [
    "# Run to output the dataframe as an xlsx file in the 'Results' folder\n",
    "\n",
    "# Time stamped file. In form yyyy-mm-dd_hour-minute\n",
    "OUTPUT_FILE = META_TAGS_OUTPUT_FOLDER + 'meta-tag-results_'+ datetime.now().strftime(\"%Y-%m-%d_%H-%M\") + '.xlsx'\n",
    "\n",
    "writer = pd.ExcelWriter(OUTPUT_FILE, engine='xlsxwriter',)\n",
    "for tag in meta_tags:\n",
    "    '''For each of the tags, create a new sheet with its results and add it to the outputted file.'''\n",
    "    mapping_of_results[tag].to_excel(writer, sheet_name=tag, index=False)\n",
    "writer.save()"
   ]
  }
 ],
 "metadata": {
  "kernelspec": {
   "display_name": "Python 3",
   "language": "python",
   "name": "python3"
  },
  "language_info": {
   "codemirror_mode": {
    "name": "ipython",
    "version": 3
   },
   "file_extension": ".py",
   "mimetype": "text/x-python",
   "name": "python",
   "nbconvert_exporter": "python",
   "pygments_lexer": "ipython3",
   "version": "3.6.0"
  }
 },
 "nbformat": 4,
 "nbformat_minor": 2
}
