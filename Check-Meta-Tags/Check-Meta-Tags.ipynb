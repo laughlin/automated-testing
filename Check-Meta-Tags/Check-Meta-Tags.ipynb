{
 "cells": [
  {
   "cell_type": "markdown",
   "metadata": {},
   "source": [
    "# What it is\n",
    "\n",
    "A script that takes an excel xlsx file containing the url to check along with expected meta tags that a user wants to check. The tool outputs whether the tags have been set at all, incorrectly, or correctly. It also outputs an SEO check which makes sure that the meta tags follow general SEO guidelines.\n",
    "\n",
    "The current meta tags that can be checked are:\n",
    "* Meta Title\n",
    "* Meta Description\n",
    "\n",
    "# Before Running All Cells\n",
    "\n",
    "Check the the xlsx file containing meta tags that you want to check follows the correct format. To see the expected format, view the xlsx file \"Example\" under the Inputs folder. Then, place the xlsx file in the Check-Meta-Tags > Inputs folder.\n",
    "\n",
    "Finally, enter file name and sheet below under [User Input](#user_input)\n",
    "\n",
    "# How to Run\n",
    "On top select Cell -> Run All"
   ]
  },
  {
   "cell_type": "markdown",
   "metadata": {},
   "source": [
    "<a id='user_input'></a>"
   ]
  },
  {
   "cell_type": "markdown",
   "metadata": {},
   "source": [
    "## User Input\n",
    "\n",
    "Enter information below before running the cells."
   ]
  },
  {
   "cell_type": "code",
   "execution_count": null,
   "metadata": {
    "collapsed": true
   },
   "outputs": [],
   "source": [
    "# User input data\n",
    "# Currently the fields are set to be \n",
    "\n",
    "META_TAGS_WORKBOOK = 'Example.xlsx'\n",
    "META_TAGS_WORKBOOK_SHEET = 'MetaTagsSheet'\n",
    "\n",
    "# If an http(s) needs to be appended to the url, what should it be?\n",
    "# https = True\n",
    "# http = False\n",
    "# This will only change things if the beginning of url path is not specified\n",
    "IS_SSL = True\n",
    "\n",
    "# Whether looking to test the review site or production site\n",
    "# Used for Master Lock and SentrySafe\n",
    "# Not be supported for other sites, leave False\n",
    "IS_ML_REVIEW = False\n"
   ]
  },
  {
   "cell_type": "markdown",
   "metadata": {},
   "source": [
    "## Import and Constant\n",
    "\n",
    "Cells in this section import libraries, define where the ouputted file will go, and load the file the user wants to use to check canonicals."
   ]
  },
  {
   "cell_type": "code",
   "execution_count": null,
   "metadata": {
    "collapsed": false
   },
   "outputs": [],
   "source": [
    "# Imports and constants\n",
    "import pandas as pd\n",
    "import xlrd\n",
    "from xlutils.copy import copy\n",
    "from datetime import datetime\n",
    "import pandas as pd\n",
    "\n",
    "import sys\n",
    "sys.path.append('../')\n",
    "import automatedtesting\n",
    "\n",
    "META_TAGS_INPUT_FOLDER = 'Inputs/'\n",
    "META_TAGS_OUTPUT_FOLDER = 'Results/'\n",
    "\n",
    "META_TAGS_INPUT_WORKBOOK_PATH = META_TAGS_INPUT_FOLDER + META_TAGS_WORKBOOK\n",
    "\n",
    "to_check = xlrd.open_workbook(META_TAGS_INPUT_WORKBOOK_PATH)\n",
    "to_check_sheet = to_check.sheet_by_name(META_TAGS_WORKBOOK_SHEET)\n",
    "\n",
    "# Needs to be a copy to get the number or rows? Weird\n",
    "check_wb = copy(to_check) \n",
    "check_sheet = check_wb.get_sheet(META_TAGS_WORKBOOK_SHEET)\n",
    "\n",
    "# These are the currently available tag checkers\n",
    "META_TAGS = {\"title\":{'column':1, 'min_char':0, 'max_char':50,\n",
    "                      'results':pd.DataFrame(columns=[\"Match Result\",\"Expected Title\", \"Actual Title\", \"SEO Check\"])},\n",
    "             \"description\":{'column':2, 'min_char':50, 'max_char':300,\n",
    "                    'results':pd.DataFrame(\n",
    "                        columns=[\"Match Result\",\"Expected Description\", \"Actual Description\", \"SEO Check\"])}}\n",
    "\n",
    "URL_RESULTS = pd.DataFrame(columns=[\"URL Status\", \"URL Status Code\", \"URL\"])\n",
    "\n",
    "RESULTS_STRING = \"results\""
   ]
  },
  {
   "cell_type": "markdown",
   "metadata": {},
   "source": [
    "## Functions\n",
    "\n",
    "In this section, functions are defined to make the code easier to read and write tests for."
   ]
  },
  {
   "cell_type": "code",
   "execution_count": null,
   "metadata": {
    "collapsed": true
   },
   "outputs": [],
   "source": [
    "def get_tag_results(tag, url, min_char, max_char):\n",
    "    actual_tag = automatedtesting.return_tag(url, tag)\n",
    "    seo_result = automatedtesting.check_seo_length(\n",
    "        expected_tag, min_char, max_char)\n",
    "    match_result = automatedtesting.check_matching(expected_tag, actual_tag)\n",
    "    \n",
    "    return [match_result, expected_tag, actual_tag, seo_result]"
   ]
  },
  {
   "cell_type": "markdown",
   "metadata": {},
   "source": [
    "# Testing\n",
    "\n",
    "The cells below are a check to make sure that the tool is working correctly. If one of these fails, and the canonical checker still runs, outputted file may be incorrect. Reach out or trouble shoot based on the outputted error.\n",
    "\n",
    "When selecting 'Run All Cells', if one of these tests fails, the code will stop running at this cell. If you want to continue, you can select the 'Actual Check' cell and continue by running that, but it's highly advised against."
   ]
  },
  {
   "cell_type": "code",
   "execution_count": null,
   "metadata": {
    "collapsed": false
   },
   "outputs": [],
   "source": [
    "def test_return_tag(url, tag, actual):\n",
    "    '''Test for checking that the canonical parser is working correctly.\n",
    "    If this returns a warning, first check that the passed in url actually has the redirect.'''\n",
    "    result = automatedtesting.return_tag(url, tag)\n",
    "    if result == actual:\n",
    "        return True\n",
    "    else:\n",
    "        print(\"Error when parsing\")\n",
    "        return sys.exit(result)\n",
    "\n",
    "print(test_return_tag(\"https://www.masterlock.com/business-use/product/A1266NBLK\",\n",
    "                      \"title\", 'Model No. A1266NBLK | Master Lock'))\n",
    "print(test_return_tag(\"https://www.masterlock.com/business-use/product/A1266NBLK\",\n",
    "                \"description\", \n",
    "                \"The American Lock A1266NBLK Solid Aluminum Padlock offers customization options to help fit your security needs, including keying, laser engraving and shackle options. Learn more.\")) "
   ]
  },
  {
   "cell_type": "markdown",
   "metadata": {},
   "source": [
    "## Actual Check\n",
    "\n",
    "Now on to applying the logic."
   ]
  },
  {
   "cell_type": "code",
   "execution_count": null,
   "metadata": {
    "collapsed": false,
    "scrolled": true
   },
   "outputs": [],
   "source": [
    "# Loop through entire row first of tags to be checked. For every row, check all meta tags\n",
    "for i in range(1, len(check_sheet.rows)):\n",
    "    \n",
    "    # Get data from the inputted file and clean url if not full path\n",
    "    url_containing_tag = automatedtesting.return_full_clean_path(to_check_sheet.cell(i, 0).value, IS_SSL)\n",
    "\n",
    "    url_status_code = automatedtesting.get_status_code(url_containing_tag)\n",
    "    \n",
    "    # If the URL status code came back successfully, set to be OK and then check the meta tags\n",
    "    # If not, the URL is having issues and the status code is returned. Tags are not checked.\n",
    "    if url_status_code == 200:\n",
    "        url_status = \"OK\"\n",
    "\n",
    "        for tag in META_TAGS:\n",
    "            expected_tag = to_check_sheet.cell(i, META_TAGS[tag]['column']).value.strip()\n",
    "    \n",
    "            # If expected tag is empty, then it doesn't need to be checked, all returned will be \"n/a\"\n",
    "            # If not empty, check all required\n",
    "            if expected_tag != \"\":\n",
    "                # Get tag's results\n",
    "                # Appends these results as a new row in the tag's results dataframe indexed by the current row\n",
    "                META_TAGS[tag][RESULTS_STRING].loc[i] = get_tag_results(\n",
    "                    tag, url_containing_tag, META_TAGS[tag]['min_char'], META_TAGS[tag]['max_char'])\n",
    "            else: \n",
    "                META_TAGS[tag][RESULTS_STRING].loc[i] = [\"n/a\", \"\", \"n/a\", \"n/a\"]\n",
    "\n",
    "    else: \n",
    "        url_status = \"See status code.\"\n",
    "\n",
    "    # For the row, set the URL results to the dataframe indexed by the row\n",
    "    URL_RESULTS.loc[i] = [url_status, url_status_code, url_containing_tag]\n",
    "\n",
    "# Combine the URL results with the meta tag results for each meta tag\n",
    "# Because tags are on different sheets, this makes it easier to view all needed info\n",
    "for tag in META_TAGS:\n",
    "    META_TAGS[tag][RESULTS_STRING] = pd.concat([URL_RESULTS, META_TAGS[tag][RESULTS_STRING]], axis=1).fillna(\"n/a\")\n",
    "    print(META_TAGS[tag][RESULTS_STRING])"
   ]
  },
  {
   "cell_type": "raw",
   "metadata": {},
   "source": [
    "# Testing a different way to do above logic\n",
    "import copy\n",
    "resultsArray = META_TAGS.deepcopy()\n",
    "for i in range(1, len(check_sheet.rows)):\n",
    "    \n",
    "    # Get data from the inputted file and clean url if not full path\n",
    "    url_containing_tag = automatedtesting.return_full_clean_path(to_check_sheet.cell(i, 0).value, IS_SSL)\n",
    "\n",
    "    url_status_code = automatedtesting.get_status_code(url_containing_tag)\n",
    "    \n",
    "    # If the URL status code came back successfully, set to be OK and then check the meta tags\n",
    "    # If not, the URL is having issues and the status code is returned. Tags are not checked.\n",
    "    if url_status_code == 200:\n",
    "        url_status = \"OK\"\n",
    "\n",
    "        for tag in META_TAGS:\n",
    "            expected_tag = to_check_sheet.cell(i, META_TAGS[tag]['column']).value.strip()\n",
    "    \n",
    "            # If expected tag is empty, then it doesn't need to be checked, all returned will be \"n/a\"\n",
    "            # If not empty, check all required\n",
    "            if expected_tag != \"\":\n",
    "                # Get tag's results\n",
    "                # Appends these results as a new row in the tag's results dataframe indexed by the current row\n",
    "                resultsArray[tag][RESULTS_STRING].loc[i] = get_tag_results(\n",
    "                    tag, url_containing_tag, META_TAGS[tag]['min_char'], META_TAGS[tag]['max_char'])\n",
    "            else: \n",
    "                resultsArray[tag][RESULTS_STRING].loc[i] = [\"n/a\", \"\", \"n/a\", \"n/a\"]\n",
    "            \n",
    "            resultsArray[tag][RESULTS_STRING] = pd.concat([URL_RESULTS, META_TAGS[tag][RESULTS_STRING]], axis=1).fillna(\"n/a\")\n",
    "            print(resultsArray[tag][RESULTS_STRING])\n",
    "\n",
    "    else: \n",
    "        url_status = \"See status code.\"\n",
    "\n",
    "    # For the row, set the URL results to the dataframe indexed by the row\n",
    "    URL_RESULTS.loc[i] = [url_status, url_status_code, url_containing_tag]\n",
    "\n",
    "# Combine the URL results with the meta tag results for each meta tag\n",
    "# Because tags are on different sheets, this makes it easier to view all needed info\n",
    "#for tag in META_TAGS:\n",
    "    #META_TAGS[tag][RESULTS_STRING] = pd.concat([URL_RESULTS, META_TAGS[tag][RESULTS_STRING]], axis=1).fillna(\"n/a\")\n",
    "    #print(META_TAGS[tag][RESULTS_STRING])"
   ]
  },
  {
   "cell_type": "markdown",
   "metadata": {},
   "source": [
    "## Create Result Output File\n",
    "\n",
    "After running the cell below, the results gotten from checking meta tags will be placed in an xlsx with the current timestamp in the title and then outputted to the __Results__ folder."
   ]
  },
  {
   "cell_type": "code",
   "execution_count": null,
   "metadata": {
    "collapsed": false
   },
   "outputs": [],
   "source": [
    "# Run to output the dataframe as an xlsx file in the 'Results' folder\n",
    "\n",
    "# Time stamped file. In form yyyy-mm-dd_hour-minute\n",
    "OUTPUT_FILE = META_TAGS_OUTPUT_FOLDER + 'meta-tag-results_'+ datetime.now().strftime(\"%Y-%m-%d_%H-%M\") + '.xlsx'\n",
    "writer = pd.ExcelWriter(OUTPUT_FILE, engine='xlsxwriter',)\n",
    "\n",
    "# For each of the tags, create a new sheet with its results and add it to the outputted file. Then save.\n",
    "for tag in META_TAGS:\n",
    "    META_TAGS[tag][RESULTS_STRING].to_excel(writer, sheet_name=tag, index=False)\n",
    "writer.save()"
   ]
  }
 ],
 "metadata": {
  "kernelspec": {
   "display_name": "Python 3",
   "language": "python",
   "name": "python3"
  },
  "language_info": {
   "codemirror_mode": {
    "name": "ipython",
    "version": 3
   },
   "file_extension": ".py",
   "mimetype": "text/x-python",
   "name": "python",
   "nbconvert_exporter": "python",
   "pygments_lexer": "ipython3",
   "version": "3.6.0"
  }
 },
 "nbformat": 4,
 "nbformat_minor": 2
}
