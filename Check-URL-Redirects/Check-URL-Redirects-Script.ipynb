{
 "cells": [
  {
   "cell_type": "markdown",
   "metadata": {},
   "source": [
    "# What it is\n",
    "\n",
    "A script that takes an excel xlsx file containing the original url and the redirected url pairings that a user wants to check and outputs whether the redirects are valid or not.\n",
    "\n",
    "# How to Use it\n",
    "\n",
    "1. Create an input file containing the url's to check that is modelled off of the example sheet. Place it in the 'Inputs' folder. If you just want a feel of how to run the notebook, you can use the default examples. The input file name should be enclosed by quotes like shown and include the file extension .xlsx\n",
    "2. **WIP** If you are checking a Master Lock or SentrySafe site, select whether the site to check is review or production by inputting either 'review' or 'production' next to the variable __ENVIRONMENT__\n",
    "3. Run the check by going to 'Cell' in the top navigation and selecting 'Run All'.\n",
    "4. View what urls passed or failed the test by reading below or going to the 'Results' folder and selecting the file with the timestamp of your last run."
   ]
  },
  {
   "cell_type": "code",
   "execution_count": 22,
   "metadata": {
    "collapsed": true
   },
   "outputs": [],
   "source": [
    "# User input data\n",
    "\n",
    "REDIRECTS_WORKBOOK = 'Example.xlsx'\n",
    "REDIRECTS_WORKBOOK_SHEET = 'Sheet1'\n",
    "\n",
    "# Whether looking to test the review site or production site\n",
    "# Used for Master Lock and SentrySafe\n",
    "# May not be supported for other sites, to be safe, leave on production\n",
    "ENVIRONMENT = 'production' #'production' or 'review'\n"
   ]
  },
  {
   "cell_type": "code",
   "execution_count": 23,
   "metadata": {
    "collapsed": false
   },
   "outputs": [],
   "source": [
    "# Imports and constants\n",
    "\n",
    "import urllib.request as request\n",
    "import pandas as pd\n",
    "import re\n",
    "import xlrd\n",
    "from xlutils.copy import copy\n",
    "from datetime import datetime\n",
    "import requests\n",
    "\n",
    "import matplotlib\n",
    "REDIRECTS_INPUT_FOLDER = 'Inputs/'\n",
    "REDIRECTS_OUTPUT_FOLDER = 'Results/'\n",
    "\n",
    "REDIRECTS_INPUT_WORKBOOK_PATH = REDIRECTS_INPUT_FOLDER + REDIRECTS_WORKBOOK\n",
    "\n",
    "to_check = xlrd.open_workbook(REDIRECTS_INPUT_WORKBOOK_PATH)\n",
    "to_check_sheet = to_check.sheet_by_name(REDIRECTS_WORKBOOK_SHEET)\n",
    "\n",
    "check_wb = copy(to_check) \n",
    "check_sheet = check_wb.get_sheet(REDIRECTS_WORKBOOK_SHEET)\n",
    "\n",
    "ENVIRONMENT_LIST = ['production', 'review']"
   ]
  },
  {
   "cell_type": "code",
   "execution_count": 43,
   "metadata": {
    "collapsed": false
   },
   "outputs": [],
   "source": [
    "# Methods to parse data in file\n",
    "\n",
    "def change_to_prod_https(url):\n",
    "    if not url.startswith(\"https://\"):\n",
    "        if '//' in url or url.startswith(\"review\"):\n",
    "            return \"\".join([\"https://www.\", url.split('.',1)[1]])\n",
    "        else:\n",
    "            return \"\".join([\"https://\", url])\n",
    "    else: return url\n",
    "\n",
    "def change_to_review(url):\n",
    "    basic_path = url.split('.', 1)[1]\n",
    "    review_url = \"\".join(['review.', basic_path])\n",
    "    return review_url\n",
    "\n",
    "def change_env(url, env):\n",
    "    if env in ENVIRONMENT_LIST:\n",
    "        if env == 'production':\n",
    "            url = change_to_prod_https(url)\n",
    "            return url\n",
    "        elif env == 'review':\n",
    "            url = change_to_review(url)\n",
    "            return url\n",
    "        else:\n",
    "            sys.exit(\"This environment has been declared usable, but has not been built out.\")\n",
    "    else:\n",
    "        sys.exit(\"Passed in environment is incorrect\")  \n",
    "\n",
    "def check_seo_hops(hops):\n",
    "    if hops >= 3:\n",
    "        seo_check = \"Correct redirect, but hopped three times or more.\"\n",
    "    else:\n",
    "        seo_check = \"OK\"\n",
    "    return seo_check"
   ]
  },
  {
   "cell_type": "markdown",
   "metadata": {},
   "source": [
    "# Testing\n",
    "\n",
    "The cells below are a check to make sure that the tool is working correctly. If one of these fails, and the canonical checker still runs, outputted file may be incorrect. Reach out or trouble shoot based on the outputted error.\n",
    "\n",
    "When selecting 'Run All Cells', if one of these tests fails, the code will stop running at this cell. If you want to continue, you can select the 'Actual Check' cell and continue by running that, but it's highly advised against."
   ]
  },
  {
   "cell_type": "code",
   "execution_count": 39,
   "metadata": {
    "collapsed": false
   },
   "outputs": [
    {
     "name": "stdout",
     "output_type": "stream",
     "text": [
      "True\n",
      "True\n",
      "True\n",
      "True\n"
     ]
    }
   ],
   "source": [
    "def test_change_to_env(url, env_url, env):\n",
    "    test_url = change_env(url, env)\n",
    "    if test_url == env_url:\n",
    "        print(\"True\")\n",
    "    else:\n",
    "        print(\"An error occurred. Test url: \" + test_url)\n",
    "        print(\"Expected url: \" + env_url)\n",
    "        print(\"Env: \"+ str(env))\n",
    "        sys.exit()\n",
    "\n",
    "test_change_to_env(\"www.sentrysafe.com\", \"https://www.sentrysafe.com\", \"production\")\n",
    "test_change_to_env(\"www.sentrysafe.com\", \"review.sentrysafe.com\", \"review\")\n",
    "test_change_to_env(\"review.sentrysafe.com\", \"https://www.sentrysafe.com\", \"production\")\n",
    "test_change_to_env(\"nm.org\", \"https://nm.org\", \"production\")"
   ]
  },
  {
   "cell_type": "code",
   "execution_count": null,
   "metadata": {
    "collapsed": false,
    "scrolled": false
   },
   "outputs": [],
   "source": [
    "# Checking the redirects\n",
    "\n",
    "cols = [\"result\", \"status code\", \"url\", \"expected redirect\", \"actual redirect\", \"hops\", \"SEO Results\"]\n",
    "list_of_results = pd.DataFrame(columns=cols)\n",
    "\n",
    "# For every row in the input data, check to see that the actual redirect is the same as the desired\n",
    "for i in range(1, len(check_sheet.rows)):\n",
    "    seo_check = \"n/a\"\n",
    "    matched_result = \"\"\n",
    "    \n",
    "    url_to_redirect = change_env(to_check_sheet.cell(i, 0).value.strip(), ENVIRONMENT)\n",
    "    expected_redirect = add_https_if_none(to_check_sheet.cell(i, 1).value.strip())\n",
    "    \n",
    "    req = requests.get(url_to_redirect)\n",
    "    \n",
    "    # This status code is reflective of the last code outputted and will not reflect redirects\n",
    "    status_code = req.status_code\n",
    "    \n",
    "    # To check redirects, the history of the response must be parsed\n",
    "    # If there is no history, then a redirect did not occur\n",
    "    if req.history:\n",
    "        status_code = req.history[-1].status_code\n",
    "        hops = len(req.history)\n",
    "        if  status_code == 301:\n",
    "            actual_redirect = req.url\n",
    "            if actual_redirect == expected_redirect:\n",
    "                matched_result = \"OK\"\n",
    "                seo_check = check_seo_hops(hops)\n",
    "            else:\n",
    "                matched_result = 'Redirected to wrong url'\n",
    "        else: matched_result = \"Wrong redirect response\"\n",
    "    else:\n",
    "        matched_result = \"View status code\"\n",
    "    \n",
    "    # Append the result to a dataframe for output later\n",
    "    list_of_results.loc[i] = [matched_result, status_code, url_to_redirect,\n",
    "                              expected_redirect, actual_redirect, hops, seo_check]\n",
    "\n",
    "print(list_of_results)"
   ]
  },
  {
   "cell_type": "code",
   "execution_count": 12,
   "metadata": {
    "collapsed": true
   },
   "outputs": [],
   "source": [
    "# Run to output the dataframe as an xlsx file in the 'Results' folder\n",
    "\n",
    "OUTPUT_FILE = REDIRECTS_OUTPUT_FOLDER + 'redirect-results_'+ datetime.now().strftime(\"%Y-%m-%d_%H-%M\") + '.xlsx'\n",
    "\n",
    "writer = pd.ExcelWriter(OUTPUT_FILE, engine='xlsxwriter',)\n",
    "list_of_results.to_excel(writer, sheet_name='Sheet1', index=False)\n",
    "writer.save()"
   ]
  }
 ],
 "metadata": {
  "kernelspec": {
   "display_name": "Python 3",
   "language": "python",
   "name": "python3"
  },
  "language_info": {
   "codemirror_mode": {
    "name": "ipython",
    "version": 3
   },
   "file_extension": ".py",
   "mimetype": "text/x-python",
   "name": "python",
   "nbconvert_exporter": "python",
   "pygments_lexer": "ipython3",
   "version": "3.6.0"
  }
 },
 "nbformat": 4,
 "nbformat_minor": 2
}
