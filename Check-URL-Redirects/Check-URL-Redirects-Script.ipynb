{
 "cells": [
  {
   "cell_type": "markdown",
   "metadata": {},
   "source": [
    "# What it is\n",
    "\n",
    "A script that takes an excel xlsx file containing the original url and the redirected url pairings that a user wants to check and outputs whether the redirects are valid or not along with an SEO check.\n",
    "\n",
    "# How to Use it\n",
    "\n",
    "1. Create an input file containing the url's to check that is modelled off of the example sheet. Place it in the 'Inputs' folder. If you just want a feel of how to run the notebook, you can use the default examples. The input file name should be enclosed by quotes like shown and include the file extension .xlsx\n",
    "2. If you are checking a Master Lock or SentrySafe site, select whether the site to check is review or production by inputting either True or False next to the variable __IS_ML_REVIEW__. If your site is neither, leave this value as False.\n",
    "3. Select whether the site you are checking has ssl or not. Not needed if you have full url paths in the input folder.\n",
    "4. Run the check by going to 'Cell' in the top navigation and selecting 'Run All'.\n",
    "5. View what urls passed or failed the test by reading below or going to the 'Results' folder and selecting the file with the timestamp of your last run."
   ]
  },
  {
   "cell_type": "markdown",
   "metadata": {},
   "source": [
    "## User Input\n",
    "\n",
    "Enter information below before running the cells."
   ]
  },
  {
   "cell_type": "code",
   "execution_count": null,
   "metadata": {
    "collapsed": true
   },
   "outputs": [],
   "source": [
    "# User input data\n",
    "\n",
    "REDIRECTS_WORKBOOK = 'Example.xlsx'\n",
    "REDIRECTS_WORKBOOK_SHEET = 'Redirects'\n",
    "\n",
    "# If an http(s) needs to be appended to the url, what should it be?\n",
    "# https = True\n",
    "# http = False\n",
    "# This will only change things if the beginning of url path is not specified\n",
    "IS_SSL = True\n",
    "\n",
    "# Whether looking to test the review site or production site\n",
    "# Used for Master Lock and SentrySafe\n",
    "# Not be supported for other sites, leave False\n",
    "IS_ML_REVIEW = False\n"
   ]
  },
  {
   "cell_type": "markdown",
   "metadata": {},
   "source": [
    "## Imports and Constants\n",
    "\n",
    "Cells in this section import libraries, define where the ouputted file will go, and load the file the user wants to use to check canonicals."
   ]
  },
  {
   "cell_type": "code",
   "execution_count": null,
   "metadata": {
    "collapsed": false
   },
   "outputs": [],
   "source": [
    "# Imports and constants\n",
    "\n",
    "import pandas as pd\n",
    "import xlrd\n",
    "from xlutils.copy import copy\n",
    "from datetime import datetime\n",
    "import requests\n",
    "\n",
    "import sys\n",
    "sys.path.append('../')\n",
    "import automatedtesting\n",
    "\n",
    "REDIRECTS_INPUT_FOLDER = 'Inputs/'\n",
    "REDIRECTS_OUTPUT_FOLDER = 'Results/'\n",
    "\n",
    "REDIRECTS_INPUT_WORKBOOK_PATH = REDIRECTS_INPUT_FOLDER + REDIRECTS_WORKBOOK\n",
    "\n",
    "to_check = xlrd.open_workbook(REDIRECTS_INPUT_WORKBOOK_PATH)\n",
    "to_check_sheet = to_check.sheet_by_name(REDIRECTS_WORKBOOK_SHEET)\n",
    "\n",
    "check_wb = copy(to_check) \n",
    "check_sheet = check_wb.get_sheet(REDIRECTS_WORKBOOK_SHEET)"
   ]
  },
  {
   "cell_type": "markdown",
   "metadata": {},
   "source": [
    "## Functions\n",
    "\n",
    "In this section, functions are defined to make the code easier to read and write tests for."
   ]
  },
  {
   "cell_type": "code",
   "execution_count": null,
   "metadata": {
    "collapsed": false
   },
   "outputs": [],
   "source": [
    "def get_request(url):\n",
    "    try:\n",
    "        # This status code is reflective of the last code outputted and will not reflect redirects\n",
    "        return requests.get(url)\n",
    "    except:\n",
    "        return False"
   ]
  },
  {
   "cell_type": "markdown",
   "metadata": {},
   "source": [
    "# Testing\n",
    "\n",
    "The cells below are a check to make sure that the tool is working correctly. If one of these fails, and the canonical checker still runs, outputted file may be incorrect. Reach out or trouble shoot based on the outputted error.\n",
    "\n",
    "When selecting 'Run All Cells', if one of these tests fails, the code will stop running at this cell. If you want to continue, you can select the 'Actual Check' cell and continue by running that, but it's highly advised against."
   ]
  },
  {
   "cell_type": "code",
   "execution_count": null,
   "metadata": {
    "collapsed": false
   },
   "outputs": [],
   "source": [
    "def test_change_to_env(url, env_url, env, is_ssl):\n",
    "    test_url = automatedtesting.change_env(url, env, is_ssl)\n",
    "    if test_url == env_url:\n",
    "        print(\"Pass\")\n",
    "    else:\n",
    "        print(\"An error occurred. Test url: \" + test_url)\n",
    "        print(\"Expected url: \" + env_url)\n",
    "        print(\"Env: \"+ str(env))\n",
    "        sys.exit()\n",
    "\n",
    "test_change_to_env(\"https://www.masterlock.com/service-and-support/faqs/lost-combinations\",\n",
    "                   \"https://www.masterlock.com/service-and-support/faqs/lost-combinations\", False, True)\n",
    "test_change_to_env(\"www.sentrysafe.com\", \"http://review.sentrysafe.com\", True, False)\n",
    "test_change_to_env(\"review.sentrysafe.com\", \"https://www.sentrysafe.com\", False, True)\n",
    "test_change_to_env(\"nm.org\", \"http://nm.org\", False, False)"
   ]
  },
  {
   "cell_type": "markdown",
   "metadata": {},
   "source": [
    "## Actual Check\n",
    "\n",
    "Now on to applying the logic."
   ]
  },
  {
   "cell_type": "code",
   "execution_count": null,
   "metadata": {
    "collapsed": false,
    "scrolled": true
   },
   "outputs": [],
   "source": [
    "# Checking the redirects\n",
    "\n",
    "cols = [\"URL Status\", \"Status Code\", \"URL\", \"Redirect Result\", \"Expected Redirect\",\n",
    "        \"Actual Redirect\", \"Hops\", \"SEO Results\"]\n",
    "list_of_results = pd.DataFrame(columns=cols)\n",
    "\n",
    "# For every row in the input data, check to see that the actual redirect is the same as the desired\n",
    "for i in range(1, len(check_sheet.rows)):\n",
    "    \n",
    "    # Begin by clearing variables between rows\n",
    "    seo_check = \"n/a\"\n",
    "    matched_result = \"n/a\"\n",
    "    hops = \"n/a\"\n",
    "    actual_redirect = \"n/a\"\n",
    "    \n",
    "    url_to_redirect = automatedtesting.change_env(to_check_sheet.cell(i, 0).value, IS_ML_REVIEW, IS_SSL)\n",
    "    expected_redirect = automatedtesting.change_env(to_check_sheet.cell(i, 1).value, IS_ML_REVIEW, IS_SSL)\n",
    "    \n",
    "    req = get_request(url_to_redirect)\n",
    "    \n",
    "    if req:\n",
    "        status_code = req.status_code\n",
    "        if status_code == 200:\n",
    "\n",
    "            # To check redirects, the history of the response must be parsed\n",
    "            # If there is no history, then a redirect did not occur\n",
    "            if req.history:\n",
    "                status_code = req.history[-1].status_code\n",
    "\n",
    "                # If the url is the correct redirect, then test for results\n",
    "                # Else, it is probably a 302, and incorrect due to SEO standards\n",
    "                if  status_code == 301:\n",
    "                    url_status = \"OK\"\n",
    "                    hops = len(req.history)\n",
    "                    seo_check = automatedtesting.check_seo_hops(hops)\n",
    "                    actual_redirect = automatedtesting.return_full_clean_path(req.url, IS_SSL)\n",
    "                    matched_result = automatedtesting.check_matching(expected_redirect, actual_redirect)\n",
    "                else: url_status = \"Wrong redirect response\"\n",
    "            else:\n",
    "                matched_result = \"No redirect occurred\"\n",
    "        else:\n",
    "            url_status = \"See Status Code\"\n",
    "    else:\n",
    "        status_code = \"Error\"\n",
    "        url_status = \"Redirected URL could not be reached\"\n",
    "    \n",
    "    \n",
    "   \n",
    "    \n",
    "    # Append the result to a dataframe for output later\n",
    "    list_of_results.loc[i] = [url_status, status_code, url_to_redirect, matched_result, \n",
    "                              expected_redirect, actual_redirect, hops, seo_check]\n",
    "\n",
    "print(list_of_results)"
   ]
  },
  {
   "cell_type": "markdown",
   "metadata": {},
   "source": [
    "## Create Result Output File\n",
    "\n",
    "After running the cell below, the results gotten from checking redirects will be placed in an xlsx with the current timestamp in the title and then outputted to the __Results__ folder."
   ]
  },
  {
   "cell_type": "code",
   "execution_count": null,
   "metadata": {
    "collapsed": true
   },
   "outputs": [],
   "source": [
    "# Run to output the dataframe as an xlsx file in the 'Results' folder\n",
    "\n",
    "OUTPUT_FILE = REDIRECTS_OUTPUT_FOLDER + 'redirect-results_'+ datetime.now().strftime(\"%Y-%m-%d_%H-%M\") + '.xlsx'\n",
    "\n",
    "writer = pd.ExcelWriter(OUTPUT_FILE, engine='xlsxwriter',)\n",
    "list_of_results.to_excel(writer, sheet_name='Redirects', index=False)\n",
    "writer.save()"
   ]
  }
 ],
 "metadata": {
  "kernelspec": {
   "display_name": "Python 3",
   "language": "python",
   "name": "python3"
  },
  "language_info": {
   "codemirror_mode": {
    "name": "ipython",
    "version": 3
   },
   "file_extension": ".py",
   "mimetype": "text/x-python",
   "name": "python",
   "nbconvert_exporter": "python",
   "pygments_lexer": "ipython3",
   "version": "3.6.0"
  }
 },
 "nbformat": 4,
 "nbformat_minor": 2
}
