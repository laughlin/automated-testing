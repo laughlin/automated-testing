{
 "cells": [
  {
   "cell_type": "markdown",
   "metadata": {},
   "source": [
    "# What it is\n",
    "\n",
    "A script that takes an excel xlsx file containing the original url and the redirected url pairings that a user wants to check and outputs whether the redirects are valid or not along with an SEO check.\n",
    "\n",
    "# How to Use it\n",
    "\n",
    "1. Create an input file containing the url's to check that is modelled off of the example sheet. Place it in the 'Inputs' folder. If you just want a feel of how to run the notebook, you can use the default examples. The input file name should be enclosed by quotes like shown and include the file extension .xlsx\n",
    "2. If you are checking a Master Lock or SentrySafe site, select whether the site to check is review or production by inputting either True or False next to the variable __IS_ML_REVIEW__. If your site is neither, leave this value as False.\n",
    "3. Select whether the site you are checking has ssl or not. Not needed if you have full url paths in the input folder.\n",
    "4. Run the check by going to 'Cell' in the top navigation and selecting 'Run All'.\n",
    "5. View what urls passed or failed the test by reading below or going to the 'Results' folder and selecting the file with the timestamp of your last run."
   ]
  },
  {
   "cell_type": "markdown",
   "metadata": {},
   "source": [
    "## User Input\n",
    "\n",
    "Enter information below before running the cells."
   ]
  },
  {
   "cell_type": "code",
   "execution_count": 137,
   "metadata": {
    "collapsed": true
   },
   "outputs": [],
   "source": [
    "# User input data\n",
    "\n",
    "REDIRECTS_WORKBOOK = 'Example.xlsx'\n",
    "REDIRECTS_WORKBOOK_SHEET = 'Redirects'\n",
    "\n",
    "# Whether looking to test the review site or production site\n",
    "# Used for Master Lock and SentrySafe\n",
    "# May not be supported for other sites, leave False\n",
    "IS_ML_REVIEW = False\n",
    "\n",
    "# If an http(s) needs to be appended to the url, what should it be?\n",
    "IS_SSL = True\n"
   ]
  },
  {
   "cell_type": "markdown",
   "metadata": {},
   "source": [
    "## Imports and Constants\n",
    "\n",
    "Cells in this section import libraries, define where the ouputted file will go, and load the file the user wants to use to check canonicals."
   ]
  },
  {
   "cell_type": "code",
   "execution_count": 138,
   "metadata": {
    "collapsed": false
   },
   "outputs": [],
   "source": [
    "# Imports and constants\n",
    "\n",
    "import urllib.request as request\n",
    "import pandas as pd\n",
    "import re\n",
    "import xlrd\n",
    "from xlutils.copy import copy\n",
    "from datetime import datetime\n",
    "import requests\n",
    "\n",
    "import matplotlib\n",
    "REDIRECTS_INPUT_FOLDER = 'Inputs/'\n",
    "REDIRECTS_OUTPUT_FOLDER = 'Results/'\n",
    "\n",
    "REDIRECTS_INPUT_WORKBOOK_PATH = REDIRECTS_INPUT_FOLDER + REDIRECTS_WORKBOOK\n",
    "\n",
    "to_check = xlrd.open_workbook(REDIRECTS_INPUT_WORKBOOK_PATH)\n",
    "to_check_sheet = to_check.sheet_by_name(REDIRECTS_WORKBOOK_SHEET)\n",
    "\n",
    "check_wb = copy(to_check) \n",
    "check_sheet = check_wb.get_sheet(REDIRECTS_WORKBOOK_SHEET)\n",
    "\n",
    "SSL = \"https\"\n",
    "NON_SSL = \"http\""
   ]
  },
  {
   "cell_type": "markdown",
   "metadata": {},
   "source": [
    "## Functions\n",
    "\n",
    "In this section, functions are defined to make the code easier to read and write tests for."
   ]
  },
  {
   "cell_type": "code",
   "execution_count": 142,
   "metadata": {
    "collapsed": false
   },
   "outputs": [],
   "source": [
    "# Methods to parse data in file\n",
    "\n",
    "def change_env(url, is_ml_review, base):\n",
    "    url = return_full_clean_path(url, base)\n",
    "    if is_ml_review:\n",
    "        url = change_to_review(url) \n",
    "    else:\n",
    "        url = change_to_prod(url)\n",
    "    return url\n",
    "\n",
    "def change_to_prod(url):\n",
    "    if 'review.masterlock' in url or 'review.sentrysafe' in url:\n",
    "        split_url = url.split('review')\n",
    "        url = \"\".join([split_url[0],\"www\", split_url[1]])\n",
    "    return url\n",
    "\n",
    "def change_to_review(url):\n",
    "    basic_path = url.split('www', 1)\n",
    "    review_url = \"\".join([basic_path[0],'review', basic_path[1]])\n",
    "    return review_url\n",
    "\n",
    "def return_full_clean_path(url, base):\n",
    "    '''Adds the full url path if none was defined on the input file.'''\n",
    "    url = url.strip().rstrip('/')\n",
    "    if \"//\" not in url:\n",
    "        url = \"\".join([base,\"://\",url])\n",
    "    return url\n",
    "\n",
    "def get_base(ssl):\n",
    "    if ssl: base = SSL    \n",
    "    else: base = NON_SSL\n",
    "    return base\n",
    "\n",
    "def check_seo_hops(hops):\n",
    "    \"Response is based on seo accepted number of hops\"\n",
    "    if hops >= 3:\n",
    "        seo_check = \"Correct redirect, but hopped three times or more.\"\n",
    "    else:\n",
    "        seo_check = \"OK\"\n",
    "    return seo_check\n",
    "\n",
    "def check_matching(expected, actual):\n",
    "    if actual == expected:\n",
    "        match_result = \"OK\"\n",
    "    else:\n",
    "        match_result = \"Expected and actual do not match\"\n",
    "    return match_result"
   ]
  },
  {
   "cell_type": "markdown",
   "metadata": {},
   "source": [
    "# Testing\n",
    "\n",
    "The cells below are a check to make sure that the tool is working correctly. If one of these fails, and the canonical checker still runs, outputted file may be incorrect. Reach out or trouble shoot based on the outputted error.\n",
    "\n",
    "When selecting 'Run All Cells', if one of these tests fails, the code will stop running at this cell. If you want to continue, you can select the 'Actual Check' cell and continue by running that, but it's highly advised against."
   ]
  },
  {
   "cell_type": "code",
   "execution_count": 147,
   "metadata": {
    "collapsed": false
   },
   "outputs": [
    {
     "name": "stdout",
     "output_type": "stream",
     "text": [
      "Pass\n",
      "Pass\n",
      "Pass\n",
      "Pass\n"
     ]
    }
   ],
   "source": [
    "def test_change_to_env(url, env_url, env, base):\n",
    "    test_url = change_env(url, env, base)\n",
    "    if test_url == env_url:\n",
    "        print(\"Pass\")\n",
    "    else:\n",
    "        print(\"An error occurred. Test url: \" + test_url)\n",
    "        print(\"Expected url: \" + env_url)\n",
    "        print(\"Env: \"+ str(env))\n",
    "        sys.exit()\n",
    "\n",
    "test_change_to_env(\"https://www.masterlock.com/service-and-support/faqs/lost-combinations\",\n",
    "                   \"https://www.masterlock.com/service-and-support/faqs/lost-combinations\", False, 'https')\n",
    "test_change_to_env(\"www.sentrysafe.com\", \"http://review.sentrysafe.com\", True, 'http')\n",
    "test_change_to_env(\"review.sentrysafe.com\", \"https://www.sentrysafe.com\", False, 'https')\n",
    "test_change_to_env(\"nm.org\", \"http://nm.org\", False, 'http')"
   ]
  },
  {
   "cell_type": "markdown",
   "metadata": {},
   "source": [
    "## Actual Check\n",
    "\n",
    "Now on to applying the logic."
   ]
  },
  {
   "cell_type": "code",
   "execution_count": 148,
   "metadata": {
    "collapsed": false,
    "scrolled": true
   },
   "outputs": [
    {
     "name": "stdout",
     "output_type": "stream",
     "text": [
      "                     Redirect Result Status Code  \\\n",
      "1                                 OK         301   \n",
      "2   Expected and actual do not match         301   \n",
      "3                                 OK         301   \n",
      "4                                 OK         301   \n",
      "5                                 OK         301   \n",
      "6                                 OK         301   \n",
      "7                                 OK         301   \n",
      "8                                 OK         301   \n",
      "9                                 OK         301   \n",
      "10                                OK         301   \n",
      "11                                OK         301   \n",
      "12                                OK         301   \n",
      "13                                OK         301   \n",
      "14                                OK         301   \n",
      "15                                OK         301   \n",
      "16                                OK         301   \n",
      "17                  View status code         404   \n",
      "18                                OK         301   \n",
      "\n",
      "                                                  URL  \\\n",
      "1                https://www.masterlock.com/index.jsp   \n",
      "2   https://www.masterlock.com/service-and-support...   \n",
      "3   https://www.masterlock.com/apps/masterlock/cat...   \n",
      "4   https://www.masterlock.com/apps/utilities/img....   \n",
      "5   https://www.masterlock.com/catalog/residential...   \n",
      "6   https://www.masterlock.com/general/faqs_lostco...   \n",
      "7   https://www.masterlock.com/government/apps/nsn...   \n",
      "8                  https://www.masterlock.com/key.htm   \n",
      "9   https://www.masterlock.com/more-from-master-lo...   \n",
      "10       https://www.masterlock.com/SecretCombination   \n",
      "11  https://www.masterlock.com/about_us/super_bowl...   \n",
      "12  https://www.masterlock.com/apps/masterlock/cat...   \n",
      "13  https://www.masterlock.com/apps/utilities/img....   \n",
      "14        https://www.masterlock.com/brightcove.shtml   \n",
      "15  https://www.masterlock.com/business-use/produc...   \n",
      "16  https://www.masterlock.com/business-use/safety...   \n",
      "17  https://www.masterlock.com/construction%3EMast...   \n",
      "18      https://www.masterlock.com/general/Legal.html   \n",
      "\n",
      "                                    Expected Redirect  \\\n",
      "1                          https://www.masterlock.com   \n",
      "2                         https://www.masterlock.comz   \n",
      "3   https://www.masterlock.com/cms/customersupport...   \n",
      "4   http://content.masterlock.com/masterlock/resou...   \n",
      "5   http://cdn.large.masterlock.com/masterlock/res...   \n",
      "6   https://www.masterlock.com/service-and-support...   \n",
      "7   https://www.masterlock.com/business-use/govern...   \n",
      "8   https://www.masterlock.com/service-and-support...   \n",
      "9   https://www.masterlock.com/business-use/safety...   \n",
      "10  https://www.masterlock.com/service-and-support...   \n",
      "11  https://www.masterlock.com/about-us/super-bowl...   \n",
      "12  https://www.masterlock.com/cms/customersupport...   \n",
      "13  http://content.masterlock.com/masterlock/resou...   \n",
      "14     https://www.youtube.com/user/MasterlockCompany   \n",
      "15  https://www.masterlock.com/personal-use/produc...   \n",
      "16  https://www.masterlock.com/business-use/produc...   \n",
      "17  https://www.masterlock.com/business-use/commer...   \n",
      "18         https://www.masterlock.com/legal-statement   \n",
      "\n",
      "                                      Actual Redirect Hops SEO Results  \n",
      "1                          https://www.masterlock.com    2          OK  \n",
      "2   https://www.masterlock.com/service-and-support...    2          OK  \n",
      "3   https://www.masterlock.com/cms/customersupport...    1          OK  \n",
      "4   http://content.masterlock.com/masterlock/resou...    1          OK  \n",
      "5   http://cdn.large.masterlock.com/masterlock/res...    1          OK  \n",
      "6   https://www.masterlock.com/service-and-support...    1          OK  \n",
      "7   https://www.masterlock.com/business-use/govern...    1          OK  \n",
      "8   https://www.masterlock.com/service-and-support...    2          OK  \n",
      "9   https://www.masterlock.com/business-use/safety...    2          OK  \n",
      "10  https://www.masterlock.com/service-and-support...    2          OK  \n",
      "11  https://www.masterlock.com/about-us/super-bowl...    2          OK  \n",
      "12  https://www.masterlock.com/cms/customersupport...    1          OK  \n",
      "13  http://content.masterlock.com/masterlock/resou...    1          OK  \n",
      "14     https://www.youtube.com/user/MasterlockCompany    1          OK  \n",
      "15  https://www.masterlock.com/personal-use/produc...    1          OK  \n",
      "16  https://www.masterlock.com/business-use/produc...    1          OK  \n",
      "17  https://www.masterlock.com/business-use/produc...    1         n/a  \n",
      "18         https://www.masterlock.com/legal-statement    2          OK  \n"
     ]
    }
   ],
   "source": [
    "# Checking the redirects\n",
    "\n",
    "cols = [\"Redirect Result\", \"Status Code\", \"URL\", \"Expected Redirect\", \"Actual Redirect\", \"Hops\", \"SEO Results\"]\n",
    "list_of_results = pd.DataFrame(columns=cols)\n",
    "\n",
    "base = get_base(IS_SSL)\n",
    "\n",
    "# For every row in the input data, check to see that the actual redirect is the same as the desired\n",
    "for i in range(1, len(check_sheet.rows)):\n",
    "    seo_check = \"n/a\"\n",
    "    matched_result = \"n/a\"\n",
    "    \n",
    "    url_to_redirect = change_env(to_check_sheet.cell(i, 0).value, IS_ML_REVIEW, base)\n",
    "    expected_redirect = change_env(to_check_sheet.cell(i, 1).value, IS_ML_REVIEW, base)\n",
    "    \n",
    "    req = requests.get(url_to_redirect)\n",
    "    \n",
    "    # This status code is reflective of the last code outputted and will not reflect redirects\n",
    "    status_code = req.status_code\n",
    "    \n",
    "    # To check redirects, the history of the response must be parsed\n",
    "    # If there is no history, then a redirect did not occur\n",
    "    if req.history:\n",
    "        status_code = req.history[-1].status_code\n",
    "        hops = len(req.history)\n",
    "        seo_check = check_seo_hops(hops)\n",
    "        if  status_code == 301:\n",
    "            actual_redirect = return_full_clean_path(req.url, base)\n",
    "            matched_result = check_matching(expected_redirect, actual_redirect)\n",
    "        else: matched_result = \"Wrong redirect response\"\n",
    "    else:\n",
    "        matched_result = \"View status code\"\n",
    "    \n",
    "    # Append the result to a dataframe for output later\n",
    "    list_of_results.loc[i] = [matched_result, status_code, url_to_redirect,\n",
    "                              expected_redirect, actual_redirect, hops, seo_check]\n",
    "\n",
    "print(list_of_results)"
   ]
  },
  {
   "cell_type": "markdown",
   "metadata": {},
   "source": [
    "## Create Result Output File\n",
    "\n",
    "After running the cell below, the results gotten from checking redirects will be placed in an xlsx with the current timestamp in the title and then outputted to the __Results__ folder."
   ]
  },
  {
   "cell_type": "code",
   "execution_count": 120,
   "metadata": {
    "collapsed": true
   },
   "outputs": [],
   "source": [
    "# Run to output the dataframe as an xlsx file in the 'Results' folder\n",
    "\n",
    "OUTPUT_FILE = REDIRECTS_OUTPUT_FOLDER + 'redirect-results_'+ datetime.now().strftime(\"%Y-%m-%d_%H-%M\") + '.xlsx'\n",
    "\n",
    "writer = pd.ExcelWriter(OUTPUT_FILE, engine='xlsxwriter',)\n",
    "list_of_results.to_excel(writer, sheet_name='Redirects', index=False)\n",
    "writer.save()"
   ]
  }
 ],
 "metadata": {
  "kernelspec": {
   "display_name": "Python 3",
   "language": "python",
   "name": "python3"
  },
  "language_info": {
   "codemirror_mode": {
    "name": "ipython",
    "version": 3
   },
   "file_extension": ".py",
   "mimetype": "text/x-python",
   "name": "python",
   "nbconvert_exporter": "python",
   "pygments_lexer": "ipython3",
   "version": "3.6.0"
  }
 },
 "nbformat": 4,
 "nbformat_minor": 2
}
