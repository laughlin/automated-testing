{
 "cells": [
  {
   "cell_type": "markdown",
   "metadata": {},
   "source": [
    "# What it is\n",
    "\n",
    "A script that takes an excel xlsx file containing the original url and the redirected url pairings that a user wants to check and outputs whether the redirects are valid or not.\n",
    "\n",
    "# How to Use it\n",
    "\n",
    "1. Create an input file containing the url's to check that is modelled off of the example sheet. Place it in the 'Inputs' folder. If you just want a feel of how to run the notebook, you can use the default examples. The input file name should be enclosed by quotes like shown and include the file extension .xlsx\n",
    "2. **WIP** If you are checking a Master Lock or SentrySafe site, select whether the site to check is review or production by inputting either 'review' or 'production' next to the variable __ENVIRONMENT__\n",
    "3. Run the check by going to 'Cell' in the top navigation and selecting 'Run All'.\n",
    "4. View what urls passed or failed the test by reading below or going to the 'Results' folder and selecting the file with the timestamp of your last run."
   ]
  },
  {
   "cell_type": "code",
   "execution_count": 115,
   "metadata": {
    "collapsed": true
   },
   "outputs": [],
   "source": [
    "# User input data\n",
    "\n",
    "REDIRECTS_WORKBOOK = 'Example.xlsx'\n",
    "REDIRECTS_WORKBOOK_SHEET = 'Redirects'\n",
    "\n",
    "# Whether looking to test the review site or production site\n",
    "# Used for Master Lock and SentrySafe\n",
    "# May not be supported for other sites, to be safe, leave on production\n",
    "IS_PRODUCTION = True #'production' or 'review'\n",
    "\n",
    "# If an http(s) needs to be appended to the url, what should it be?\n",
    "IS_SSL = True\n"
   ]
  },
  {
   "cell_type": "code",
   "execution_count": 116,
   "metadata": {
    "collapsed": false
   },
   "outputs": [],
   "source": [
    "# Imports and constants\n",
    "\n",
    "import urllib.request as request\n",
    "import pandas as pd\n",
    "import re\n",
    "import xlrd\n",
    "from xlutils.copy import copy\n",
    "from datetime import datetime\n",
    "import requests\n",
    "\n",
    "import matplotlib\n",
    "REDIRECTS_INPUT_FOLDER = 'Inputs/'\n",
    "REDIRECTS_OUTPUT_FOLDER = 'Results/'\n",
    "\n",
    "REDIRECTS_INPUT_WORKBOOK_PATH = REDIRECTS_INPUT_FOLDER + REDIRECTS_WORKBOOK\n",
    "\n",
    "to_check = xlrd.open_workbook(REDIRECTS_INPUT_WORKBOOK_PATH)\n",
    "to_check_sheet = to_check.sheet_by_name(REDIRECTS_WORKBOOK_SHEET)\n",
    "\n",
    "check_wb = copy(to_check) \n",
    "check_sheet = check_wb.get_sheet(REDIRECTS_WORKBOOK_SHEET)\n",
    "\n",
    "SSL = \"https\"\n",
    "NON_SSL = \"http\""
   ]
  },
  {
   "cell_type": "code",
   "execution_count": 108,
   "metadata": {
    "collapsed": false
   },
   "outputs": [],
   "source": [
    "# Methods to parse data in file\n",
    "\n",
    "def change_env(url, is_prod, ssl):\n",
    "    base = get_base(ssl)\n",
    "    \n",
    "    url = url.strip().rstrip('/')\n",
    "    if is_prod:\n",
    "        url = change_to_prod(url, base)\n",
    "    else:\n",
    "        url = change_to_review(url, base)\n",
    "    return url\n",
    "\n",
    "def change_to_prod(url, base):\n",
    "    if 'review.masterlock' in url or 'review.sentrysafe' in url or url.startswith('www'):\n",
    "        url = \"\".join([base+\"://www.\", url.split('.',1)[1]])\n",
    "    else:\n",
    "        if \"//\" not in url:\n",
    "            url = \"\".join([base+\"://\", url])\n",
    "    return url\n",
    "\n",
    "def change_to_review(url, base):\n",
    "    basic_path = url.split('.', 1)[1]\n",
    "    review_url = \"\".join([base+'://review.', basic_path])\n",
    "    return review_url\n",
    "\n",
    "def get_base(ssl):\n",
    "    if ssl: base = SSL    \n",
    "    else: base = NON_SSL\n",
    "    return base\n",
    "\n",
    "def check_seo_hops(hops):\n",
    "    if hops >= 3:\n",
    "        seo_check = \"Correct redirect, but hopped three times or more.\"\n",
    "    else:\n",
    "        seo_check = \"OK\"\n",
    "    return seo_check"
   ]
  },
  {
   "cell_type": "markdown",
   "metadata": {},
   "source": [
    "# Testing\n",
    "\n",
    "The cells below are a check to make sure that the tool is working correctly. If one of these fails, and the canonical checker still runs, outputted file may be incorrect. Reach out or trouble shoot based on the outputted error.\n",
    "\n",
    "When selecting 'Run All Cells', if one of these tests fails, the code will stop running at this cell. If you want to continue, you can select the 'Actual Check' cell and continue by running that, but it's highly advised against."
   ]
  },
  {
   "cell_type": "code",
   "execution_count": 109,
   "metadata": {
    "collapsed": false
   },
   "outputs": [
    {
     "name": "stdout",
     "output_type": "stream",
     "text": [
      "True\n",
      "True\n",
      "True\n",
      "True\n"
     ]
    }
   ],
   "source": [
    "def test_change_to_env(url, env_url, env, ssl):\n",
    "    test_url = change_env(url, env, ssl)\n",
    "    if test_url == env_url:\n",
    "        print(\"Pass\")\n",
    "    else:\n",
    "        print(\"An error occurred. Test url: \" + test_url)\n",
    "        print(\"Expected url: \" + env_url)\n",
    "        print(\"Env: \"+ str(env))\n",
    "        sys.exit()\n",
    "\n",
    "test_change_to_env(\"https://www.masterlock.com/service-and-support/faqs/lost-combinations\",\n",
    "                   \"https://www.masterlock.com/service-and-support/faqs/lost-combinations\", True, True)\n",
    "test_change_to_env(\"www.sentrysafe.com\", \"http://review.sentrysafe.com\", False, False)\n",
    "test_change_to_env(\"review.sentrysafe.com\", \"https://www.sentrysafe.com\", True, True)\n",
    "test_change_to_env(\"nm.org\", \"http://nm.org\", True, False)"
   ]
  },
  {
   "cell_type": "code",
   "execution_count": 119,
   "metadata": {
    "collapsed": false,
    "scrolled": false
   },
   "outputs": [
    {
     "name": "stdout",
     "output_type": "stream",
     "text": [
      "            Redirect Result Status Code  \\\n",
      "1                        OK         301   \n",
      "2   Redirected to wrong url         301   \n",
      "3                        OK         301   \n",
      "4                        OK         301   \n",
      "5                        OK         301   \n",
      "6                        OK         301   \n",
      "7                        OK         301   \n",
      "8                        OK         301   \n",
      "9                        OK         301   \n",
      "10                       OK         301   \n",
      "11                       OK         301   \n",
      "12                       OK         301   \n",
      "13                       OK         301   \n",
      "14                       OK         301   \n",
      "15                       OK         301   \n",
      "16                       OK         301   \n",
      "17         View status code         404   \n",
      "18                       OK         301   \n",
      "\n",
      "                                                  URL  \\\n",
      "1                https://www.masterlock.com/index.jsp   \n",
      "2   https://www.masterlock.com/service-and-support...   \n",
      "3   https://www.masterlock.com/apps/masterlock/cat...   \n",
      "4   https://www.masterlock.com/apps/utilities/img....   \n",
      "5   https://www.masterlock.com/catalog/residential...   \n",
      "6   https://www.masterlock.com/general/faqs_lostco...   \n",
      "7   https://www.masterlock.com/government/apps/nsn...   \n",
      "8                  https://www.masterlock.com/key.htm   \n",
      "9   https://www.masterlock.com/more-from-master-lo...   \n",
      "10       https://www.masterlock.com/SecretCombination   \n",
      "11  https://www.masterlock.com/about_us/super_bowl...   \n",
      "12  https://www.masterlock.com/apps/masterlock/cat...   \n",
      "13  https://www.masterlock.com/apps/utilities/img....   \n",
      "14        https://www.masterlock.com/brightcove.shtml   \n",
      "15  https://www.masterlock.com/business-use/produc...   \n",
      "16  https://www.masterlock.com/business-use/safety...   \n",
      "17  https://www.masterlock.com/construction%3EMast...   \n",
      "18      https://www.masterlock.com/general/Legal.html   \n",
      "\n",
      "                                    Expected Redirect  \\\n",
      "1                          https://www.masterlock.com   \n",
      "2                         https://www.masterlock.comz   \n",
      "3   https://www.masterlock.com/cms/customersupport...   \n",
      "4   http://content.masterlock.com/masterlock/resou...   \n",
      "5   http://cdn.large.masterlock.com/masterlock/res...   \n",
      "6   https://www.masterlock.com/service-and-support...   \n",
      "7   https://www.masterlock.com/business-use/govern...   \n",
      "8   https://www.masterlock.com/service-and-support...   \n",
      "9   https://www.masterlock.com/business-use/safety...   \n",
      "10  https://www.masterlock.com/service-and-support...   \n",
      "11  https://www.masterlock.com/about-us/super-bowl...   \n",
      "12  https://www.masterlock.com/cms/customersupport...   \n",
      "13  http://content.masterlock.com/masterlock/resou...   \n",
      "14     https://www.youtube.com/user/MasterlockCompany   \n",
      "15  https://www.masterlock.com/personal-use/produc...   \n",
      "16  https://www.masterlock.com/business-use/produc...   \n",
      "17  https://www.masterlock.com/business-use/commer...   \n",
      "18         https://www.masterlock.com/legal-statement   \n",
      "\n",
      "                                      Actual Redirect Hops SEO Results  \n",
      "1                          https://www.masterlock.com    2          OK  \n",
      "2   https://www.masterlock.com/service-and-support...    2          OK  \n",
      "3   https://www.masterlock.com/cms/customersupport...    1          OK  \n",
      "4   http://content.masterlock.com/masterlock/resou...    1          OK  \n",
      "5   http://cdn.large.masterlock.com/masterlock/res...    1          OK  \n",
      "6   https://www.masterlock.com/service-and-support...    1          OK  \n",
      "7   https://www.masterlock.com/business-use/govern...    1          OK  \n",
      "8   https://www.masterlock.com/service-and-support...    2          OK  \n",
      "9   https://www.masterlock.com/business-use/safety...    2          OK  \n",
      "10  https://www.masterlock.com/service-and-support...    2          OK  \n",
      "11  https://www.masterlock.com/about-us/super-bowl...    2          OK  \n",
      "12  https://www.masterlock.com/cms/customersupport...    1          OK  \n",
      "13  http://content.masterlock.com/masterlock/resou...    1          OK  \n",
      "14     https://www.youtube.com/user/MasterlockCompany    1          OK  \n",
      "15  https://www.masterlock.com/personal-use/produc...    1          OK  \n",
      "16  https://www.masterlock.com/business-use/produc...    1          OK  \n",
      "17  https://www.masterlock.com/business-use/produc...    1         n/a  \n",
      "18         https://www.masterlock.com/legal-statement    2          OK  \n"
     ]
    }
   ],
   "source": [
    "# Checking the redirects\n",
    "\n",
    "cols = [\"Redirect Result\", \"Status Code\", \"URL\", \"Expected Redirect\", \"Actual Redirect\", \"Hops\", \"SEO Results\"]\n",
    "list_of_results = pd.DataFrame(columns=cols)\n",
    "\n",
    "# For every row in the input data, check to see that the actual redirect is the same as the desired\n",
    "for i in range(1, len(check_sheet.rows)):\n",
    "    seo_check = \"n/a\"\n",
    "    matched_result = \"\"\n",
    "    \n",
    "    url_to_redirect = change_env(to_check_sheet.cell(i, 0).value, IS_PRODUCTION, IS_SSL)\n",
    "    expected_redirect = change_env(to_check_sheet.cell(i, 1).value, IS_PRODUCTION, IS_SSL)\n",
    "    \n",
    "    req = requests.get(url_to_redirect)\n",
    "    \n",
    "    # This status code is reflective of the last code outputted and will not reflect redirects\n",
    "    status_code = req.status_code\n",
    "    \n",
    "    # To check redirects, the history of the response must be parsed\n",
    "    # If there is no history, then a redirect did not occur\n",
    "    if req.history:\n",
    "        status_code = req.history[-1].status_code\n",
    "        hops = len(req.history)\n",
    "        seo_check = check_seo_hops(hops)\n",
    "        if  status_code == 301:\n",
    "            actual_redirect = req.url.rstrip('/')\n",
    "            if actual_redirect == expected_redirect:\n",
    "                matched_result = \"OK\"\n",
    "            else:\n",
    "                matched_result = 'Redirected to wrong url'\n",
    "        else: matched_result = \"Wrong redirect response\"\n",
    "    else:\n",
    "        matched_result = \"View status code\"\n",
    "    \n",
    "    # Append the result to a dataframe for output later\n",
    "    list_of_results.loc[i] = [matched_result, status_code, url_to_redirect,\n",
    "                              expected_redirect, actual_redirect, hops, seo_check]\n",
    "\n",
    "print(list_of_results)"
   ]
  },
  {
   "cell_type": "code",
   "execution_count": 120,
   "metadata": {
    "collapsed": true
   },
   "outputs": [],
   "source": [
    "# Run to output the dataframe as an xlsx file in the 'Results' folder\n",
    "\n",
    "OUTPUT_FILE = REDIRECTS_OUTPUT_FOLDER + 'redirect-results_'+ datetime.now().strftime(\"%Y-%m-%d_%H-%M\") + '.xlsx'\n",
    "\n",
    "writer = pd.ExcelWriter(OUTPUT_FILE, engine='xlsxwriter',)\n",
    "list_of_results.to_excel(writer, sheet_name='Redirects', index=False)\n",
    "writer.save()"
   ]
  }
 ],
 "metadata": {
  "kernelspec": {
   "display_name": "Python 3",
   "language": "python",
   "name": "python3"
  },
  "language_info": {
   "codemirror_mode": {
    "name": "ipython",
    "version": 3
   },
   "file_extension": ".py",
   "mimetype": "text/x-python",
   "name": "python",
   "nbconvert_exporter": "python",
   "pygments_lexer": "ipython3",
   "version": "3.6.0"
  }
 },
 "nbformat": 4,
 "nbformat_minor": 2
}
